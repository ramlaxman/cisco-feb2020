{
 "cells": [
  {
   "cell_type": "code",
   "execution_count": 1,
   "metadata": {},
   "outputs": [
    {
     "name": "stdout",
     "output_type": "stream",
     "text": [
      "x = 100\n"
     ]
    }
   ],
   "source": [
    "x = 100\n",
    "\n",
    "print(f'x = {x}')"
   ]
  },
  {
   "cell_type": "code",
   "execution_count": null,
   "metadata": {},
   "outputs": [],
   "source": [
    "# in a function body, start searching here and stop when you find it\n",
    "# L Local\n",
    "# E Enclosing function\n",
    "\n",
    "# not in a function body, start searching here and stop when you find it\n",
    "# G Global\n",
    "# B Builtins"
   ]
  },
  {
   "cell_type": "code",
   "execution_count": 2,
   "metadata": {},
   "outputs": [
    {
     "data": {
      "text/plain": [
       "True"
      ]
     },
     "execution_count": 2,
     "metadata": {},
     "output_type": "execute_result"
    }
   ],
   "source": [
    "'x' in globals()"
   ]
  },
  {
   "cell_type": "code",
   "execution_count": 6,
   "metadata": {},
   "outputs": [
    {
     "name": "stdout",
     "output_type": "stream",
     "text": [
      "Before, x = 100\n",
      "In myfunc, x = 200\n",
      "After, x = 100\n"
     ]
    }
   ],
   "source": [
    "x = 100  # defined the global variable x\n",
    "\n",
    "def hello():\n",
    "    return \"Hello\"\n",
    "\n",
    "def myfunc():\n",
    "    x = 200   # defined the local variable x\n",
    "    print(f'In myfunc, x = {x}')\n",
    "    # print(hello())\n",
    "\n",
    "print(f'Before, x = {x}')\n",
    "myfunc()\n",
    "print(f'After, x = {x}')"
   ]
  },
  {
   "cell_type": "code",
   "execution_count": 7,
   "metadata": {},
   "outputs": [
    {
     "name": "stdout",
     "output_type": "stream",
     "text": [
      "0 1 2 3 4 5 6 7 8 9 "
     ]
    }
   ],
   "source": [
    "for i in range(10):\n",
    "    print(i, end=' ')"
   ]
  },
  {
   "cell_type": "code",
   "execution_count": 8,
   "metadata": {},
   "outputs": [
    {
     "data": {
      "text/plain": [
       "9"
      ]
     },
     "execution_count": 8,
     "metadata": {},
     "output_type": "execute_result"
    }
   ],
   "source": [
    "i"
   ]
  },
  {
   "cell_type": "code",
   "execution_count": 9,
   "metadata": {},
   "outputs": [],
   "source": [
    "if True:\n",
    "    abcd = 'hello'"
   ]
  },
  {
   "cell_type": "code",
   "execution_count": 10,
   "metadata": {},
   "outputs": [
    {
     "data": {
      "text/plain": [
       "'hello'"
      ]
     },
     "execution_count": 10,
     "metadata": {},
     "output_type": "execute_result"
    }
   ],
   "source": [
    "abcd"
   ]
  },
  {
   "cell_type": "code",
   "execution_count": 15,
   "metadata": {},
   "outputs": [],
   "source": [
    "def myfunc():\n",
    "    print(vars())\n",
    "    x = 200   # defined the local variable x\n",
    "    print(f'In myfunc, x = {x}')\n",
    "    print(vars())"
   ]
  },
  {
   "cell_type": "code",
   "execution_count": 12,
   "metadata": {},
   "outputs": [
    {
     "data": {
      "text/plain": [
       "('x',)"
      ]
     },
     "execution_count": 12,
     "metadata": {},
     "output_type": "execute_result"
    }
   ],
   "source": [
    "myfunc.__code__.co_varnames"
   ]
  },
  {
   "cell_type": "code",
   "execution_count": 16,
   "metadata": {},
   "outputs": [
    {
     "name": "stdout",
     "output_type": "stream",
     "text": [
      "{}\n",
      "In myfunc, x = 200\n",
      "{'x': 200}\n"
     ]
    }
   ],
   "source": [
    "myfunc()"
   ]
  },
  {
   "cell_type": "code",
   "execution_count": 17,
   "metadata": {},
   "outputs": [
    {
     "name": "stdout",
     "output_type": "stream",
     "text": [
      "Before, x = 100\n"
     ]
    },
    {
     "ename": "UnboundLocalError",
     "evalue": "local variable 'x' referenced before assignment",
     "output_type": "error",
     "traceback": [
      "\u001b[0;31m---------------------------------------------------------------------------\u001b[0m",
      "\u001b[0;31mUnboundLocalError\u001b[0m                         Traceback (most recent call last)",
      "\u001b[0;32m<ipython-input-17-72bcf53e4d97>\u001b[0m in \u001b[0;36m<module>\u001b[0;34m\u001b[0m\n\u001b[1;32m      6\u001b[0m \u001b[0;34m\u001b[0m\u001b[0m\n\u001b[1;32m      7\u001b[0m \u001b[0mprint\u001b[0m\u001b[0;34m(\u001b[0m\u001b[0;34mf'Before, x = {x}'\u001b[0m\u001b[0;34m)\u001b[0m\u001b[0;34m\u001b[0m\u001b[0;34m\u001b[0m\u001b[0m\n\u001b[0;32m----> 8\u001b[0;31m \u001b[0mmyfunc\u001b[0m\u001b[0;34m(\u001b[0m\u001b[0;34m)\u001b[0m\u001b[0;34m\u001b[0m\u001b[0;34m\u001b[0m\u001b[0m\n\u001b[0m\u001b[1;32m      9\u001b[0m \u001b[0mprint\u001b[0m\u001b[0;34m(\u001b[0m\u001b[0;34mf'After, x = {x}'\u001b[0m\u001b[0;34m)\u001b[0m\u001b[0;34m\u001b[0m\u001b[0;34m\u001b[0m\u001b[0m\n",
      "\u001b[0;32m<ipython-input-17-72bcf53e4d97>\u001b[0m in \u001b[0;36mmyfunc\u001b[0;34m()\u001b[0m\n\u001b[1;32m      2\u001b[0m \u001b[0;34m\u001b[0m\u001b[0m\n\u001b[1;32m      3\u001b[0m \u001b[0;32mdef\u001b[0m \u001b[0mmyfunc\u001b[0m\u001b[0;34m(\u001b[0m\u001b[0;34m)\u001b[0m\u001b[0;34m:\u001b[0m\u001b[0;34m\u001b[0m\u001b[0;34m\u001b[0m\u001b[0m\n\u001b[0;32m----> 4\u001b[0;31m     \u001b[0mprint\u001b[0m\u001b[0;34m(\u001b[0m\u001b[0;34mf'In myfunc, x = {x}'\u001b[0m\u001b[0;34m)\u001b[0m\u001b[0;34m\u001b[0m\u001b[0;34m\u001b[0m\u001b[0m\n\u001b[0m\u001b[1;32m      5\u001b[0m     \u001b[0mx\u001b[0m \u001b[0;34m=\u001b[0m \u001b[0;36m200\u001b[0m   \u001b[0;31m# defined the local variable x\u001b[0m\u001b[0;34m\u001b[0m\u001b[0;34m\u001b[0m\u001b[0m\n\u001b[1;32m      6\u001b[0m \u001b[0;34m\u001b[0m\u001b[0m\n",
      "\u001b[0;31mUnboundLocalError\u001b[0m: local variable 'x' referenced before assignment"
     ]
    }
   ],
   "source": [
    "x = 100  # defined the global variable x\n",
    "\n",
    "def myfunc():\n",
    "    print(f'In myfunc, x = {x}')\n",
    "    x = 200   # defined the local variable x\n",
    "\n",
    "print(f'Before, x = {x}')\n",
    "myfunc()\n",
    "print(f'After, x = {x}')"
   ]
  },
  {
   "cell_type": "code",
   "execution_count": 18,
   "metadata": {},
   "outputs": [],
   "source": [
    "x = 100  # defined the global variable x\n",
    "\n",
    "def myfunc():\n",
    "    x += 1\n",
    "    print(f'In myfunc, x = {x}')"
   ]
  },
  {
   "cell_type": "code",
   "execution_count": 19,
   "metadata": {},
   "outputs": [
    {
     "ename": "UnboundLocalError",
     "evalue": "local variable 'x' referenced before assignment",
     "output_type": "error",
     "traceback": [
      "\u001b[0;31m---------------------------------------------------------------------------\u001b[0m",
      "\u001b[0;31mUnboundLocalError\u001b[0m                         Traceback (most recent call last)",
      "\u001b[0;32m<ipython-input-19-a6a9c68c30b3>\u001b[0m in \u001b[0;36m<module>\u001b[0;34m\u001b[0m\n\u001b[0;32m----> 1\u001b[0;31m \u001b[0mmyfunc\u001b[0m\u001b[0;34m(\u001b[0m\u001b[0;34m)\u001b[0m\u001b[0;34m\u001b[0m\u001b[0;34m\u001b[0m\u001b[0m\n\u001b[0m",
      "\u001b[0;32m<ipython-input-18-45ba335014d5>\u001b[0m in \u001b[0;36mmyfunc\u001b[0;34m()\u001b[0m\n\u001b[1;32m      2\u001b[0m \u001b[0;34m\u001b[0m\u001b[0m\n\u001b[1;32m      3\u001b[0m \u001b[0;32mdef\u001b[0m \u001b[0mmyfunc\u001b[0m\u001b[0;34m(\u001b[0m\u001b[0;34m)\u001b[0m\u001b[0;34m:\u001b[0m\u001b[0;34m\u001b[0m\u001b[0;34m\u001b[0m\u001b[0m\n\u001b[0;32m----> 4\u001b[0;31m     \u001b[0mx\u001b[0m \u001b[0;34m+=\u001b[0m \u001b[0;36m1\u001b[0m\u001b[0;34m\u001b[0m\u001b[0;34m\u001b[0m\u001b[0m\n\u001b[0m\u001b[1;32m      5\u001b[0m     \u001b[0mprint\u001b[0m\u001b[0;34m(\u001b[0m\u001b[0;34mf'In myfunc, x = {x}'\u001b[0m\u001b[0;34m)\u001b[0m\u001b[0;34m\u001b[0m\u001b[0;34m\u001b[0m\u001b[0m\n",
      "\u001b[0;31mUnboundLocalError\u001b[0m: local variable 'x' referenced before assignment"
     ]
    }
   ],
   "source": [
    "myfunc()"
   ]
  },
  {
   "cell_type": "code",
   "execution_count": 21,
   "metadata": {},
   "outputs": [
    {
     "name": "stdout",
     "output_type": "stream",
     "text": [
      "Before, x = 100\n",
      "In myfunc, x = 200\n",
      "After, x = 200\n"
     ]
    }
   ],
   "source": [
    "x = 100  # defined the global variable x\n",
    "\n",
    "def myfunc():\n",
    "    global x     # assignments to x will go to the global x\n",
    "    x = 200   \n",
    "    print(f'In myfunc, x = {x}')\n",
    "\n",
    "print(f'Before, x = {x}')\n",
    "myfunc()\n",
    "print(f'After, x = {x}')"
   ]
  },
  {
   "cell_type": "code",
   "execution_count": 22,
   "metadata": {},
   "outputs": [
    {
     "data": {
      "text/plain": [
       "('x',)"
      ]
     },
     "execution_count": 22,
     "metadata": {},
     "output_type": "execute_result"
    }
   ],
   "source": [
    "def myfunc():\n",
    "    x = 200   \n",
    "    print(f'In myfunc, x = {x}')\n",
    "    \n",
    "myfunc.__code__.co_varnames"
   ]
  },
  {
   "cell_type": "code",
   "execution_count": 23,
   "metadata": {},
   "outputs": [
    {
     "data": {
      "text/plain": [
       "()"
      ]
     },
     "execution_count": 23,
     "metadata": {},
     "output_type": "execute_result"
    }
   ],
   "source": [
    "def myfunc():\n",
    "    global x     # assignments to x will go to the global x\n",
    "    x = 200   \n",
    "    print(f'In myfunc, x = {x}')\n",
    "    \n",
    "myfunc.__code__.co_varnames"
   ]
  },
  {
   "cell_type": "code",
   "execution_count": 24,
   "metadata": {},
   "outputs": [],
   "source": [
    "global x"
   ]
  },
  {
   "cell_type": "code",
   "execution_count": 25,
   "metadata": {},
   "outputs": [
    {
     "ename": "SyntaxError",
     "evalue": "name 'x' is assigned to before global declaration (<ipython-input-25-42d3377d8c74>, line 6)",
     "output_type": "error",
     "traceback": [
      "\u001b[0;36m  File \u001b[0;32m\"<ipython-input-25-42d3377d8c74>\"\u001b[0;36m, line \u001b[0;32m6\u001b[0m\n\u001b[0;31mSyntaxError\u001b[0m\u001b[0;31m:\u001b[0m name 'x' is assigned to before global declaration\n"
     ]
    }
   ],
   "source": [
    "def foo():\n",
    "    x = 200\n",
    "    global x"
   ]
  },
  {
   "cell_type": "code",
   "execution_count": 26,
   "metadata": {},
   "outputs": [
    {
     "name": "stdout",
     "output_type": "stream",
     "text": [
      "Before, x = 100\n",
      "In myfunc, x = 200\n",
      "After, x = 200\n"
     ]
    }
   ],
   "source": [
    "import __main__  # module for accessing/setting global variables\n",
    "\n",
    "x = 100  # defined the global variable x\n",
    "\n",
    "def myfunc():\n",
    "    __main__.x = 200   \n",
    "    print(f'In myfunc, x = {__main__.x}')\n",
    "\n",
    "print(f'Before, x = {x}')\n",
    "myfunc()\n",
    "print(f'After, x = {x}')"
   ]
  },
  {
   "cell_type": "code",
   "execution_count": null,
   "metadata": {},
   "outputs": [],
   "source": []
  },
  {
   "cell_type": "code",
   "execution_count": 27,
   "metadata": {},
   "outputs": [
    {
     "name": "stdout",
     "output_type": "stream",
     "text": [
      "Before, x = 100 and y = [10, 20, 30]\n",
      "In myfunc, x = 200 and y = [10, '!!!!', 30]\n",
      "After, x = 100 and y = [10, '!!!!', 30]\n"
     ]
    }
   ],
   "source": [
    "x = 100  # defined the global variable x\n",
    "y = [10, 20, 30]\n",
    "\n",
    "def myfunc():\n",
    "    x = 200\n",
    "    y[1] = '!!!!'   # y.__setitem__(1, '!!!!')\n",
    "    print(f'In myfunc, x = {x} and y = {y}')\n",
    "\n",
    "print(f'Before, x = {x} and y = {y}')\n",
    "myfunc()\n",
    "print(f'After, x = {x} and y = {y}')"
   ]
  },
  {
   "cell_type": "code",
   "execution_count": 28,
   "metadata": {},
   "outputs": [],
   "source": [
    "# builtins"
   ]
  },
  {
   "cell_type": "code",
   "execution_count": 30,
   "metadata": {},
   "outputs": [
    {
     "data": {
      "text/plain": [
       "150"
      ]
     },
     "execution_count": 30,
     "metadata": {},
     "output_type": "execute_result"
    }
   ],
   "source": [
    "numbers = [10, 20, 30, 40, 50]\n",
    "\n",
    "sum = 0  # defined a global variable \"sum\" ... blocking builtin \"sum\"\n",
    "for one_number in numbers:\n",
    "    sum += one_number\n",
    "sum"
   ]
  },
  {
   "cell_type": "code",
   "execution_count": 31,
   "metadata": {},
   "outputs": [
    {
     "ename": "TypeError",
     "evalue": "'int' object is not callable",
     "output_type": "error",
     "traceback": [
      "\u001b[0;31m---------------------------------------------------------------------------\u001b[0m",
      "\u001b[0;31mTypeError\u001b[0m                                 Traceback (most recent call last)",
      "\u001b[0;32m<ipython-input-31-39f03a75e8d4>\u001b[0m in \u001b[0;36m<module>\u001b[0;34m\u001b[0m\n\u001b[1;32m      1\u001b[0m \u001b[0;31m# time passes...\u001b[0m\u001b[0;34m\u001b[0m\u001b[0;34m\u001b[0m\u001b[0;34m\u001b[0m\u001b[0m\n\u001b[1;32m      2\u001b[0m \u001b[0;34m\u001b[0m\u001b[0m\n\u001b[0;32m----> 3\u001b[0;31m \u001b[0msum\u001b[0m\u001b[0;34m(\u001b[0m\u001b[0;34m[\u001b[0m\u001b[0;36m1\u001b[0m\u001b[0;34m,\u001b[0m\u001b[0;36m2\u001b[0m\u001b[0;34m,\u001b[0m\u001b[0;36m3\u001b[0m\u001b[0;34m]\u001b[0m\u001b[0;34m)\u001b[0m\u001b[0;34m\u001b[0m\u001b[0;34m\u001b[0m\u001b[0m\n\u001b[0m",
      "\u001b[0;31mTypeError\u001b[0m: 'int' object is not callable"
     ]
    }
   ],
   "source": [
    "# time passes...\n",
    "\n",
    "sum([1,2,3])"
   ]
  },
  {
   "cell_type": "code",
   "execution_count": 32,
   "metadata": {},
   "outputs": [
    {
     "data": {
      "text/plain": [
       "4"
      ]
     },
     "execution_count": 32,
     "metadata": {},
     "output_type": "execute_result"
    }
   ],
   "source": [
    "len('abcd')"
   ]
  },
  {
   "cell_type": "code",
   "execution_count": 33,
   "metadata": {},
   "outputs": [
    {
     "data": {
      "text/plain": [
       "567"
      ]
     },
     "execution_count": 33,
     "metadata": {},
     "output_type": "execute_result"
    }
   ],
   "source": [
    "int('567')"
   ]
  },
  {
   "cell_type": "code",
   "execution_count": 34,
   "metadata": {},
   "outputs": [],
   "source": [
    "del(sum)"
   ]
  },
  {
   "cell_type": "code",
   "execution_count": 35,
   "metadata": {},
   "outputs": [
    {
     "data": {
      "text/plain": [
       "15"
      ]
     },
     "execution_count": 35,
     "metadata": {},
     "output_type": "execute_result"
    }
   ],
   "source": [
    "sum([1,2,3,4,5])"
   ]
  },
  {
   "cell_type": "code",
   "execution_count": 36,
   "metadata": {},
   "outputs": [],
   "source": [
    "# L E G B\n",
    "\n",
    "def outer():\n",
    "    def inner():  # this is a \"nested\" function\n",
    "        print(\"I'm in inner!\")\n",
    "    return inner"
   ]
  },
  {
   "cell_type": "code",
   "execution_count": 37,
   "metadata": {},
   "outputs": [
    {
     "data": {
      "text/plain": [
       "('inner',)"
      ]
     },
     "execution_count": 37,
     "metadata": {},
     "output_type": "execute_result"
    }
   ],
   "source": [
    "outer.__code__.co_varnames"
   ]
  },
  {
   "cell_type": "code",
   "execution_count": 38,
   "metadata": {},
   "outputs": [],
   "source": [
    "f = outer()"
   ]
  },
  {
   "cell_type": "code",
   "execution_count": 39,
   "metadata": {},
   "outputs": [
    {
     "data": {
      "text/plain": [
       "function"
      ]
     },
     "execution_count": 39,
     "metadata": {},
     "output_type": "execute_result"
    }
   ],
   "source": [
    "type(f)"
   ]
  },
  {
   "cell_type": "code",
   "execution_count": 40,
   "metadata": {},
   "outputs": [
    {
     "data": {
      "text/plain": [
       "'inner'"
      ]
     },
     "execution_count": 40,
     "metadata": {},
     "output_type": "execute_result"
    }
   ],
   "source": [
    "f.__name__"
   ]
  },
  {
   "cell_type": "code",
   "execution_count": 41,
   "metadata": {},
   "outputs": [
    {
     "name": "stdout",
     "output_type": "stream",
     "text": [
      "I'm in inner!\n"
     ]
    }
   ],
   "source": [
    "f()"
   ]
  },
  {
   "cell_type": "code",
   "execution_count": 43,
   "metadata": {},
   "outputs": [],
   "source": [
    "def outer(x):\n",
    "    def inner(y): \n",
    "        print(f\"I'm in inner, x = {x} and y = {y}\")\n",
    "    return inner\n",
    "\n",
    "f = outer(10)"
   ]
  },
  {
   "cell_type": "code",
   "execution_count": 44,
   "metadata": {},
   "outputs": [
    {
     "name": "stdout",
     "output_type": "stream",
     "text": [
      "I'm in inner, x = 10 and y = 20\n"
     ]
    }
   ],
   "source": [
    "f(20)"
   ]
  },
  {
   "cell_type": "code",
   "execution_count": 45,
   "metadata": {},
   "outputs": [],
   "source": [
    "# L E G B\n",
    "# E == local variable belonging to the ENCLOSING function"
   ]
  },
  {
   "cell_type": "code",
   "execution_count": 46,
   "metadata": {},
   "outputs": [
    {
     "name": "stdout",
     "output_type": "stream",
     "text": [
      "In myfunc!\n",
      "In myfunc!\n",
      "In myfunc!\n",
      "In myfunc!\n",
      "In myfunc!\n"
     ]
    }
   ],
   "source": [
    "# I want to know how many times I've run a function\n",
    "\n",
    "run_counter = 0\n",
    "\n",
    "def myfunc():\n",
    "    global run_counter\n",
    "    run_counter += 1\n",
    "    \n",
    "    print(\"In myfunc!\")\n",
    "    \n",
    "for i in range(5):\n",
    "    myfunc()"
   ]
  },
  {
   "cell_type": "code",
   "execution_count": 47,
   "metadata": {},
   "outputs": [
    {
     "data": {
      "text/plain": [
       "5"
      ]
     },
     "execution_count": 47,
     "metadata": {},
     "output_type": "execute_result"
    }
   ],
   "source": [
    "run_counter"
   ]
  },
  {
   "cell_type": "code",
   "execution_count": 50,
   "metadata": {},
   "outputs": [],
   "source": [
    "def outer():\n",
    "    run_counter = 0\n",
    "    \n",
    "    def inner():\n",
    "        nonlocal run_counter\n",
    "        print(f\"In inner, now on run number {run_counter}!\")\n",
    "        run_counter += 1\n",
    "        \n",
    "    return inner\n",
    "\n",
    "myfunc = outer()\n",
    "        "
   ]
  },
  {
   "cell_type": "code",
   "execution_count": 51,
   "metadata": {},
   "outputs": [
    {
     "name": "stdout",
     "output_type": "stream",
     "text": [
      "In inner, now on run number 0!\n",
      "In inner, now on run number 1!\n",
      "In inner, now on run number 2!\n",
      "In inner, now on run number 3!\n",
      "In inner, now on run number 4!\n"
     ]
    }
   ],
   "source": [
    "for i in range(5):\n",
    "    myfunc()"
   ]
  },
  {
   "cell_type": "code",
   "execution_count": 53,
   "metadata": {},
   "outputs": [
    {
     "name": "stdout",
     "output_type": "stream",
     "text": [
      "In inner, now on run number 0!\n",
      "In inner, now on run number 1!\n",
      "In inner, now on run number 2!\n"
     ]
    }
   ],
   "source": [
    "myfunc2 = outer()\n",
    "\n",
    "for i in range(3):\n",
    "    myfunc2()"
   ]
  },
  {
   "cell_type": "code",
   "execution_count": 54,
   "metadata": {},
   "outputs": [
    {
     "name": "stdout",
     "output_type": "stream",
     "text": [
      "40\n",
      "400\n"
     ]
    }
   ],
   "source": [
    "mylist = [10, 20, 30, 40, 50]\n",
    "t = (100, 200, 300, 400, 500)\n",
    "\n",
    "# get the item at index 3 from each\n",
    "print(mylist[3])\n",
    "print(t[3])"
   ]
  },
  {
   "cell_type": "code",
   "execution_count": 55,
   "metadata": {},
   "outputs": [
    {
     "name": "stdout",
     "output_type": "stream",
     "text": [
      "40\n",
      "400\n"
     ]
    }
   ],
   "source": [
    "def get_3(data):\n",
    "    return data[3]\n",
    "\n",
    "print(get_3(mylist))\n",
    "print(get_3(t))"
   ]
  },
  {
   "cell_type": "code",
   "execution_count": 56,
   "metadata": {},
   "outputs": [
    {
     "name": "stdout",
     "output_type": "stream",
     "text": [
      "40\n",
      "400\n"
     ]
    }
   ],
   "source": [
    "def get_n(n):\n",
    "    def inner(data):\n",
    "        return data[n]\n",
    "    return inner\n",
    "\n",
    "get_3 = get_n(3)\n",
    "print(get_3(mylist))\n",
    "print(get_3(t))"
   ]
  },
  {
   "cell_type": "code",
   "execution_count": 57,
   "metadata": {},
   "outputs": [
    {
     "data": {
      "text/plain": [
       "1"
      ]
     },
     "execution_count": 57,
     "metadata": {},
     "output_type": "execute_result"
    }
   ],
   "source": [
    "d = {'a':1, 'b':2, 'c':3}\n",
    "get_a = get_n('a')\n",
    "\n",
    "get_a(d)"
   ]
  },
  {
   "cell_type": "code",
   "execution_count": 58,
   "metadata": {},
   "outputs": [],
   "source": [
    "import operator"
   ]
  },
  {
   "cell_type": "code",
   "execution_count": 59,
   "metadata": {},
   "outputs": [],
   "source": [
    "get_3 = operator.itemgetter(3)\n",
    "get_a = operator.itemgetter('a')"
   ]
  },
  {
   "cell_type": "code",
   "execution_count": 60,
   "metadata": {},
   "outputs": [
    {
     "data": {
      "text/plain": [
       "40"
      ]
     },
     "execution_count": 60,
     "metadata": {},
     "output_type": "execute_result"
    }
   ],
   "source": [
    "get_3(mylist)"
   ]
  },
  {
   "cell_type": "code",
   "execution_count": 61,
   "metadata": {},
   "outputs": [
    {
     "data": {
      "text/plain": [
       "400"
      ]
     },
     "execution_count": 61,
     "metadata": {},
     "output_type": "execute_result"
    }
   ],
   "source": [
    "get_3(t)"
   ]
  },
  {
   "cell_type": "code",
   "execution_count": 62,
   "metadata": {},
   "outputs": [
    {
     "data": {
      "text/plain": [
       "(20, 40)"
      ]
     },
     "execution_count": 62,
     "metadata": {},
     "output_type": "execute_result"
    }
   ],
   "source": [
    "get_1_and_3 = operator.itemgetter(1, 3)\n",
    "get_1_and_3(mylist)"
   ]
  },
  {
   "cell_type": "code",
   "execution_count": 63,
   "metadata": {},
   "outputs": [],
   "source": [
    "operator.itemgetter??"
   ]
  },
  {
   "cell_type": "code",
   "execution_count": 64,
   "metadata": {},
   "outputs": [
    {
     "name": "stdout",
     "output_type": "stream",
     "text": [
      "Which function? a\n",
      "I'm in a!\n",
      "Which function? b\n",
      "I'm in b!\n",
      "Which function? c\n",
      "No such function c\n",
      "Which function? \n"
     ]
    }
   ],
   "source": [
    "def a():\n",
    "    return \"I'm in a!\"\n",
    "\n",
    "def b():\n",
    "    return \"I'm in b!\"\n",
    "\n",
    "def c():\n",
    "    return \"I'm in c!\"\n",
    "\n",
    "while True:\n",
    "    s = input(\"Which function? \").strip()\n",
    "    \n",
    "    if not s:\n",
    "        break\n",
    "        \n",
    "    if s == 'a':\n",
    "        print(a())\n",
    "    elif s == 'b':\n",
    "        print(b())\n",
    "    elif s == 'c':\n",
    "        print(c())\n",
    "    else:\n",
    "        print(f'No such function {s}')"
   ]
  },
  {
   "cell_type": "code",
   "execution_count": 65,
   "metadata": {},
   "outputs": [
    {
     "name": "stdout",
     "output_type": "stream",
     "text": [
      "Which function? a\n",
      "I'm in a!\n",
      "Which function? b\n",
      "I'm in b!\n",
      "Which function? c\n",
      "I'm in c!\n",
      "Which function? d\n",
      "No such function d\n",
      "Which function? \n"
     ]
    }
   ],
   "source": [
    "def a():\n",
    "    return \"I'm in a!\"\n",
    "\n",
    "def b():\n",
    "    return \"I'm in b!\"\n",
    "\n",
    "def c():\n",
    "    return \"I'm in c!\"\n",
    "\n",
    "# dispatch table\n",
    "funcs = {'a':a, \n",
    "         'b':b,\n",
    "         'c':c}\n",
    "\n",
    "while True:\n",
    "    s = input(\"Which function? \").strip()\n",
    "    \n",
    "    if not s:\n",
    "        break\n",
    "        \n",
    "    if s in funcs:\n",
    "        print(funcs[s]())\n",
    "    else:\n",
    "        print(f'No such function {s}')"
   ]
  },
  {
   "cell_type": "code",
   "execution_count": 66,
   "metadata": {},
   "outputs": [
    {
     "data": {
      "text/plain": [
       "['a', 'b', 'c']"
      ]
     },
     "execution_count": 66,
     "metadata": {},
     "output_type": "execute_result"
    }
   ],
   "source": [
    "# ask the user repeatedly to enter a simple math operation\n",
    "# 2 + 2\n",
    "# 5 * 10\n",
    "\n",
    "# use a dispatch table to store/define your functions for +-*/\n",
    "# invoke the appropriate function with the user's operator\n",
    "# if the operator is unknown, indicate that.\n",
    "\n",
    "\n",
    "s = 'a b c'\n",
    "s.split(' ')"
   ]
  },
  {
   "cell_type": "code",
   "execution_count": 67,
   "metadata": {},
   "outputs": [
    {
     "data": {
      "text/plain": [
       "['abc', 'def', 'ghi']"
      ]
     },
     "execution_count": 67,
     "metadata": {},
     "output_type": "execute_result"
    }
   ],
   "source": [
    "s = 'abc def ghi'\n",
    "s.split(' ')"
   ]
  },
  {
   "cell_type": "code",
   "execution_count": 68,
   "metadata": {},
   "outputs": [
    {
     "data": {
      "text/plain": [
       "['abc de', ' ghi']"
      ]
     },
     "execution_count": 68,
     "metadata": {},
     "output_type": "execute_result"
    }
   ],
   "source": [
    "s.split('f')"
   ]
  },
  {
   "cell_type": "code",
   "execution_count": 69,
   "metadata": {},
   "outputs": [
    {
     "data": {
      "text/plain": [
       "['abc', '', '', '', 'def', '', '', '', '', '', 'ghi']"
      ]
     },
     "execution_count": 69,
     "metadata": {},
     "output_type": "execute_result"
    }
   ],
   "source": [
    "s = 'abc    def      ghi'\n",
    "s.split(' ')"
   ]
  },
  {
   "cell_type": "code",
   "execution_count": 70,
   "metadata": {},
   "outputs": [
    {
     "data": {
      "text/plain": [
       "['abc', 'def', 'ghi']"
      ]
     },
     "execution_count": 70,
     "metadata": {},
     "output_type": "execute_result"
    }
   ],
   "source": [
    "s.split()  # no argument == any whitespace, any length\n"
   ]
  },
  {
   "cell_type": "code",
   "execution_count": 71,
   "metadata": {},
   "outputs": [
    {
     "data": {
      "text/plain": [
       "[0, 1, 2, 3, 4, 5, 6, 7, 8, 9]"
      ]
     },
     "execution_count": 71,
     "metadata": {},
     "output_type": "execute_result"
    }
   ],
   "source": [
    "numbers = list(range(10))\n",
    "numbers"
   ]
  },
  {
   "cell_type": "code",
   "execution_count": 72,
   "metadata": {},
   "outputs": [
    {
     "data": {
      "text/plain": [
       "[0, 1, 4, 9, 16, 25, 36, 49, 64, 81]"
      ]
     },
     "execution_count": 72,
     "metadata": {},
     "output_type": "execute_result"
    }
   ],
   "source": [
    "# get a list with each element of \"numbers\" squared (2nd power)\n",
    "output = []\n",
    "for one_number in numbers:\n",
    "    output.append(one_number * one_number)\n",
    "output"
   ]
  },
  {
   "cell_type": "code",
   "execution_count": 73,
   "metadata": {},
   "outputs": [
    {
     "data": {
      "text/plain": [
       "[0, 1, 4, 9, 16, 25, 36, 49, 64, 81]"
      ]
     },
     "execution_count": 73,
     "metadata": {},
     "output_type": "execute_result"
    }
   ],
   "source": [
    "# list comprehension\n",
    "#   take an iterable and turn it into a list\n",
    "[one_number * one_number     # SELECT ... expression -- output\n",
    " for one_number in numbers]  # FROM ... iteration "
   ]
  },
  {
   "cell_type": "code",
   "execution_count": 74,
   "metadata": {},
   "outputs": [
    {
     "data": {
      "text/plain": [
       "['a', 'b', 'c']"
      ]
     },
     "execution_count": 74,
     "metadata": {},
     "output_type": "execute_result"
    }
   ],
   "source": [
    "list('abc')"
   ]
  },
  {
   "cell_type": "code",
   "execution_count": 75,
   "metadata": {},
   "outputs": [
    {
     "data": {
      "text/plain": [
       "'This Is A Bunch Of Words For My Python Class'"
      ]
     },
     "execution_count": 75,
     "metadata": {},
     "output_type": "execute_result"
    }
   ],
   "source": [
    "s = 'This is a bunch of words for my Python class'\n",
    "\n",
    "s.title()"
   ]
  },
  {
   "cell_type": "code",
   "execution_count": 76,
   "metadata": {},
   "outputs": [
    {
     "data": {
      "text/plain": [
       "'This is a bunch of words for my python class'"
      ]
     },
     "execution_count": 76,
     "metadata": {},
     "output_type": "execute_result"
    }
   ],
   "source": [
    "s.capitalize()"
   ]
  },
  {
   "cell_type": "code",
   "execution_count": 77,
   "metadata": {},
   "outputs": [
    {
     "data": {
      "text/plain": [
       "'THIS IS A BUNCH OF WORDS FOR MY PYTHON CLASS'"
      ]
     },
     "execution_count": 77,
     "metadata": {},
     "output_type": "execute_result"
    }
   ],
   "source": [
    "s.upper()"
   ]
  },
  {
   "cell_type": "code",
   "execution_count": 78,
   "metadata": {},
   "outputs": [
    {
     "data": {
      "text/plain": [
       "'this is a bunch of words for my python class'"
      ]
     },
     "execution_count": 78,
     "metadata": {},
     "output_type": "execute_result"
    }
   ],
   "source": [
    "s.lower()"
   ]
  },
  {
   "cell_type": "code",
   "execution_count": 81,
   "metadata": {},
   "outputs": [
    {
     "data": {
      "text/plain": [
       "'This Is A Bunch Of Words For My Python Class'"
      ]
     },
     "execution_count": 81,
     "metadata": {},
     "output_type": "execute_result"
    }
   ],
   "source": [
    "' '.join([one_word.capitalize()\n",
    "         for one_word in s.split()])"
   ]
  },
  {
   "cell_type": "code",
   "execution_count": 82,
   "metadata": {},
   "outputs": [
    {
     "data": {
      "text/plain": [
       "15"
      ]
     },
     "execution_count": 82,
     "metadata": {},
     "output_type": "execute_result"
    }
   ],
   "source": [
    "s = '1 2 3 4 5'\n",
    "sum([1,2,3,4,5])"
   ]
  },
  {
   "cell_type": "code",
   "execution_count": 84,
   "metadata": {},
   "outputs": [
    {
     "data": {
      "text/plain": [
       "['1', '2', '3', '4', '5']"
      ]
     },
     "execution_count": 84,
     "metadata": {},
     "output_type": "execute_result"
    }
   ],
   "source": [
    "s.split()"
   ]
  },
  {
   "cell_type": "code",
   "execution_count": 85,
   "metadata": {},
   "outputs": [
    {
     "data": {
      "text/plain": [
       "[1, 2, 3, 4, 5]"
      ]
     },
     "execution_count": 85,
     "metadata": {},
     "output_type": "execute_result"
    }
   ],
   "source": [
    "[int(one_word)\n",
    "for one_word in s.split()]"
   ]
  },
  {
   "cell_type": "code",
   "execution_count": 86,
   "metadata": {},
   "outputs": [
    {
     "data": {
      "text/plain": [
       "15"
      ]
     },
     "execution_count": 86,
     "metadata": {},
     "output_type": "execute_result"
    }
   ],
   "source": [
    "sum([int(one_word)\n",
    "    for one_word in s.split()])"
   ]
  },
  {
   "cell_type": "code",
   "execution_count": 89,
   "metadata": {},
   "outputs": [
    {
     "name": "stdout",
     "output_type": "stream",
     "text": [
      "Enter a sentence: this is a test\n"
     ]
    },
    {
     "data": {
      "text/plain": [
       "11"
      ]
     },
     "execution_count": 89,
     "metadata": {},
     "output_type": "execute_result"
    }
   ],
   "source": [
    "# Ask the user to enter a sentence.\n",
    "# Determine the total number of non-whitespace characters.\n",
    "\n",
    "s = input(\"Enter a sentence: \")\n",
    "\n",
    "sum([len(one_word)\n",
    "for one_word in s.split()])\n"
   ]
  },
  {
   "cell_type": "code",
   "execution_count": 92,
   "metadata": {
    "collapsed": true
   },
   "outputs": [
    {
     "data": {
      "text/plain": [
       "['##\\n',\n",
       " '# User Database\\n',\n",
       " '# \\n',\n",
       " '# Note that this file is consulted directly only when the system is running\\n',\n",
       " '# in single-user mode.  At other times this information is provided by\\n',\n",
       " '# Open Directory.\\n',\n",
       " '#\\n',\n",
       " '# See the opendirectoryd(8) man page for additional information about\\n',\n",
       " '# Open Directory.\\n',\n",
       " '##\\n',\n",
       " 'nobody',\n",
       " 'root',\n",
       " 'daemon',\n",
       " '_uucp',\n",
       " '_taskgated',\n",
       " '_networkd',\n",
       " '_installassistant',\n",
       " '_lp',\n",
       " '_postfix',\n",
       " '_scsd',\n",
       " '_ces',\n",
       " '_appstore',\n",
       " '_mcxalr',\n",
       " '_appleevents',\n",
       " '_geod',\n",
       " '_devdocs',\n",
       " '_sandbox',\n",
       " '_mdnsresponder',\n",
       " '_ard',\n",
       " '_www',\n",
       " '_eppc',\n",
       " '_cvs',\n",
       " '_svn',\n",
       " '_mysql',\n",
       " '_sshd',\n",
       " '_qtss',\n",
       " '_cyrus',\n",
       " '_mailman',\n",
       " '_appserver',\n",
       " '_clamav',\n",
       " '_amavisd',\n",
       " '_jabber',\n",
       " '_appowner',\n",
       " '_windowserver',\n",
       " '_spotlight',\n",
       " '_tokend',\n",
       " '_securityagent',\n",
       " '_calendar',\n",
       " '_teamsserver',\n",
       " '_update_sharing',\n",
       " '_installer',\n",
       " '_atsserver',\n",
       " '_ftp',\n",
       " '_unknown',\n",
       " '_softwareupdate',\n",
       " '_coreaudiod',\n",
       " '_screensaver',\n",
       " '_locationd',\n",
       " '_trustevaluationagent',\n",
       " '_timezone',\n",
       " '_lda',\n",
       " '_cvmsroot',\n",
       " '_usbmuxd',\n",
       " '_dovecot',\n",
       " '_dpaudio',\n",
       " '_postgres',\n",
       " '_krbtgt',\n",
       " '_kadmin_admin',\n",
       " '_kadmin_changepw',\n",
       " '_devicemgr',\n",
       " '_webauthserver',\n",
       " '_netbios',\n",
       " '_warmd',\n",
       " '_dovenull',\n",
       " '_netstatistics',\n",
       " '_avbdeviced',\n",
       " '_krb_krbtgt',\n",
       " '_krb_kadmin',\n",
       " '_krb_changepw',\n",
       " '_krb_kerberos',\n",
       " '_krb_anonymous',\n",
       " '_assetcache',\n",
       " '_coremediaiod',\n",
       " '_launchservicesd',\n",
       " '_iconservices',\n",
       " '_distnote',\n",
       " '_nsurlsessiond',\n",
       " '_nsurlstoraged',\n",
       " '_displaypolicyd',\n",
       " '_astris',\n",
       " '_krbfast',\n",
       " '_gamecontrollerd',\n",
       " '_mbsetupuser',\n",
       " '_ondemand',\n",
       " '_xserverdocs',\n",
       " '_wwwproxy',\n",
       " '_mobileasset',\n",
       " '_findmydevice',\n",
       " '_datadetectors',\n",
       " '_captiveagent',\n",
       " '_ctkd',\n",
       " '_applepay',\n",
       " '_hidd',\n",
       " '_cmiodalassistants',\n",
       " '_analyticsd',\n",
       " '_fpsd',\n",
       " '_timed',\n",
       " '_nearbyd',\n",
       " '_reportmemoryexception',\n",
       " '_driverkit']"
      ]
     },
     "execution_count": 92,
     "metadata": {},
     "output_type": "execute_result"
    }
   ],
   "source": [
    "[one_line.split(\":\")[0]  # retrieve field #1 from each line\n",
    "for one_line in open('/etc/passwd')]"
   ]
  },
  {
   "cell_type": "code",
   "execution_count": 93,
   "metadata": {
    "collapsed": true
   },
   "outputs": [
    {
     "data": {
      "text/plain": [
       "['nobody',\n",
       " 'root',\n",
       " 'daemon',\n",
       " '_uucp',\n",
       " '_taskgated',\n",
       " '_networkd',\n",
       " '_installassistant',\n",
       " '_lp',\n",
       " '_postfix',\n",
       " '_scsd',\n",
       " '_ces',\n",
       " '_appstore',\n",
       " '_mcxalr',\n",
       " '_appleevents',\n",
       " '_geod',\n",
       " '_devdocs',\n",
       " '_sandbox',\n",
       " '_mdnsresponder',\n",
       " '_ard',\n",
       " '_www',\n",
       " '_eppc',\n",
       " '_cvs',\n",
       " '_svn',\n",
       " '_mysql',\n",
       " '_sshd',\n",
       " '_qtss',\n",
       " '_cyrus',\n",
       " '_mailman',\n",
       " '_appserver',\n",
       " '_clamav',\n",
       " '_amavisd',\n",
       " '_jabber',\n",
       " '_appowner',\n",
       " '_windowserver',\n",
       " '_spotlight',\n",
       " '_tokend',\n",
       " '_securityagent',\n",
       " '_calendar',\n",
       " '_teamsserver',\n",
       " '_update_sharing',\n",
       " '_installer',\n",
       " '_atsserver',\n",
       " '_ftp',\n",
       " '_unknown',\n",
       " '_softwareupdate',\n",
       " '_coreaudiod',\n",
       " '_screensaver',\n",
       " '_locationd',\n",
       " '_trustevaluationagent',\n",
       " '_timezone',\n",
       " '_lda',\n",
       " '_cvmsroot',\n",
       " '_usbmuxd',\n",
       " '_dovecot',\n",
       " '_dpaudio',\n",
       " '_postgres',\n",
       " '_krbtgt',\n",
       " '_kadmin_admin',\n",
       " '_kadmin_changepw',\n",
       " '_devicemgr',\n",
       " '_webauthserver',\n",
       " '_netbios',\n",
       " '_warmd',\n",
       " '_dovenull',\n",
       " '_netstatistics',\n",
       " '_avbdeviced',\n",
       " '_krb_krbtgt',\n",
       " '_krb_kadmin',\n",
       " '_krb_changepw',\n",
       " '_krb_kerberos',\n",
       " '_krb_anonymous',\n",
       " '_assetcache',\n",
       " '_coremediaiod',\n",
       " '_launchservicesd',\n",
       " '_iconservices',\n",
       " '_distnote',\n",
       " '_nsurlsessiond',\n",
       " '_nsurlstoraged',\n",
       " '_displaypolicyd',\n",
       " '_astris',\n",
       " '_krbfast',\n",
       " '_gamecontrollerd',\n",
       " '_mbsetupuser',\n",
       " '_ondemand',\n",
       " '_xserverdocs',\n",
       " '_wwwproxy',\n",
       " '_mobileasset',\n",
       " '_findmydevice',\n",
       " '_datadetectors',\n",
       " '_captiveagent',\n",
       " '_ctkd',\n",
       " '_applepay',\n",
       " '_hidd',\n",
       " '_cmiodalassistants',\n",
       " '_analyticsd',\n",
       " '_fpsd',\n",
       " '_timed',\n",
       " '_nearbyd',\n",
       " '_reportmemoryexception',\n",
       " '_driverkit']"
      ]
     },
     "execution_count": 93,
     "metadata": {},
     "output_type": "execute_result"
    }
   ],
   "source": [
    "[one_line.split(\":\")[0]              # SELECT\n",
    "for one_line in open('/etc/passwd')  # FROM\n",
    "if not one_line.startswith(\"#\")]     # WHERE"
   ]
  },
  {
   "cell_type": "code",
   "execution_count": 94,
   "metadata": {},
   "outputs": [
    {
     "name": "stdout",
     "output_type": "stream",
     "text": [
      "5\r\n",
      "\t10     \r\n",
      "\t20\r\n",
      "  \t3\r\n",
      "\t\t   \t20        \r\n",
      "\r\n",
      " 25\r\n"
     ]
    }
   ],
   "source": [
    "%cat nums.txt"
   ]
  },
  {
   "cell_type": "code",
   "execution_count": null,
   "metadata": {},
   "outputs": [],
   "source": [
    "# this line intentionally left blank for your torture\n",
    "\n",
    "# use a list comprehension\n",
    "# to read from nums.txt\n",
    "# and sum all of the numbers it contains\n",
    "# (yes, you'll need to deal with the empty line)"
   ]
  },
  {
   "cell_type": "code",
   "execution_count": 105,
   "metadata": {},
   "outputs": [
    {
     "data": {
      "text/plain": [
       "[5, 10, 20, 3, 20, 25]"
      ]
     },
     "execution_count": 105,
     "metadata": {},
     "output_type": "execute_result"
    }
   ],
   "source": [
    "[int(one_line)\n",
    " for one_line in open('nums.txt')\n",
    " if one_line.strip().isdigit() ]"
   ]
  },
  {
   "cell_type": "code",
   "execution_count": 98,
   "metadata": {},
   "outputs": [
    {
     "data": {
      "text/plain": [
       "1"
      ]
     },
     "execution_count": 98,
     "metadata": {},
     "output_type": "execute_result"
    }
   ],
   "source": [
    "int('1')"
   ]
  },
  {
   "cell_type": "code",
   "execution_count": 99,
   "metadata": {},
   "outputs": [
    {
     "data": {
      "text/plain": [
       "0"
      ]
     },
     "execution_count": 99,
     "metadata": {},
     "output_type": "execute_result"
    }
   ],
   "source": [
    "int('0')"
   ]
  },
  {
   "cell_type": "code",
   "execution_count": 100,
   "metadata": {},
   "outputs": [
    {
     "data": {
      "text/plain": [
       "0"
      ]
     },
     "execution_count": 100,
     "metadata": {},
     "output_type": "execute_result"
    }
   ],
   "source": [
    "int()"
   ]
  },
  {
   "cell_type": "code",
   "execution_count": 101,
   "metadata": {},
   "outputs": [
    {
     "ename": "ValueError",
     "evalue": "invalid literal for int() with base 10: ''",
     "output_type": "error",
     "traceback": [
      "\u001b[0;31m---------------------------------------------------------------------------\u001b[0m",
      "\u001b[0;31mValueError\u001b[0m                                Traceback (most recent call last)",
      "\u001b[0;32m<ipython-input-101-e4f84bb32d50>\u001b[0m in \u001b[0;36m<module>\u001b[0;34m\u001b[0m\n\u001b[0;32m----> 1\u001b[0;31m \u001b[0mint\u001b[0m\u001b[0;34m(\u001b[0m\u001b[0;34m''\u001b[0m\u001b[0;34m)\u001b[0m\u001b[0;34m\u001b[0m\u001b[0;34m\u001b[0m\u001b[0m\n\u001b[0m",
      "\u001b[0;31mValueError\u001b[0m: invalid literal for int() with base 10: ''"
     ]
    }
   ],
   "source": [
    "int('')"
   ]
  },
  {
   "cell_type": "code",
   "execution_count": 106,
   "metadata": {},
   "outputs": [
    {
     "name": "stdout",
     "output_type": "stream",
     "text": [
      "5\n",
      "10\n",
      "20\n",
      "3\n",
      "20\n",
      "25\n"
     ]
    },
    {
     "data": {
      "text/plain": [
       "[None, None, None, None, None, None]"
      ]
     },
     "execution_count": 106,
     "metadata": {},
     "output_type": "execute_result"
    }
   ],
   "source": [
    "[print(int(one_line))\n",
    " for one_line in open('nums.txt')\n",
    " if one_line.strip().isdigit() ]"
   ]
  },
  {
   "cell_type": "code",
   "execution_count": 112,
   "metadata": {
    "scrolled": true
   },
   "outputs": [
    {
     "data": {
      "text/plain": [
       "[{'brand': 'Adidas', 'color': 'orange', 'size': '43'},\n",
       " {'brand': 'Nike', 'color': 'black', 'size': '41'},\n",
       " {'brand': 'Adidas', 'color': 'black', 'size': '39'},\n",
       " {'brand': 'New Balance', 'color': 'pink', 'size': '41'},\n",
       " {'brand': 'Nike', 'color': 'white', 'size': '44'},\n",
       " {'brand': 'New Balance', 'color': 'orange', 'size': '38'},\n",
       " {'brand': 'Nike', 'color': 'pink', 'size': '44'},\n",
       " {'brand': 'Adidas', 'color': 'pink', 'size': '44'},\n",
       " {'brand': 'New Balance', 'color': 'orange', 'size': '39'},\n",
       " {'brand': 'New Balance', 'color': 'black', 'size': '43'},\n",
       " {'brand': 'New Balance', 'color': 'orange', 'size': '44'},\n",
       " {'brand': 'Nike', 'color': 'black', 'size': '41'},\n",
       " {'brand': 'Adidas', 'color': 'orange', 'size': '37'},\n",
       " {'brand': 'Adidas', 'color': 'black', 'size': '38'},\n",
       " {'brand': 'Adidas', 'color': 'pink', 'size': '41'},\n",
       " {'brand': 'Adidas', 'color': 'white', 'size': '36'},\n",
       " {'brand': 'Adidas', 'color': 'orange', 'size': '36'},\n",
       " {'brand': 'Nike', 'color': 'pink', 'size': '41'},\n",
       " {'brand': 'Adidas', 'color': 'pink', 'size': '35'},\n",
       " {'brand': 'New Balance', 'color': 'orange', 'size': '37'},\n",
       " {'brand': 'Nike', 'color': 'pink', 'size': '43'},\n",
       " {'brand': 'Nike', 'color': 'black', 'size': '43'},\n",
       " {'brand': 'Nike', 'color': 'black', 'size': '42'},\n",
       " {'brand': 'Nike', 'color': 'black', 'size': '35'},\n",
       " {'brand': 'Adidas', 'color': 'black', 'size': '41'},\n",
       " {'brand': 'New Balance', 'color': 'pink', 'size': '40'},\n",
       " {'brand': 'Adidas', 'color': 'white', 'size': '35'},\n",
       " {'brand': 'New Balance', 'color': 'pink', 'size': '41'},\n",
       " {'brand': 'New Balance', 'color': 'orange', 'size': '41'},\n",
       " {'brand': 'Adidas', 'color': 'orange', 'size': '40'},\n",
       " {'brand': 'New Balance', 'color': 'orange', 'size': '40'},\n",
       " {'brand': 'New Balance', 'color': 'white', 'size': '44'},\n",
       " {'brand': 'New Balance', 'color': 'pink', 'size': '40'},\n",
       " {'brand': 'Nike', 'color': 'black', 'size': '43'},\n",
       " {'brand': 'Nike', 'color': 'pink', 'size': '36'},\n",
       " {'brand': 'New Balance', 'color': 'white', 'size': '39'},\n",
       " {'brand': 'Nike', 'color': 'black', 'size': '42'},\n",
       " {'brand': 'Adidas', 'color': 'black', 'size': '41'},\n",
       " {'brand': 'New Balance', 'color': 'orange', 'size': '40'},\n",
       " {'brand': 'New Balance', 'color': 'black', 'size': '40'},\n",
       " {'brand': 'Nike', 'color': 'white', 'size': '37'},\n",
       " {'brand': 'Adidas', 'color': 'black', 'size': '39'},\n",
       " {'brand': 'Adidas', 'color': 'black', 'size': '40'},\n",
       " {'brand': 'Adidas', 'color': 'orange', 'size': '38'},\n",
       " {'brand': 'New Balance', 'color': 'orange', 'size': '39'},\n",
       " {'brand': 'Nike', 'color': 'black', 'size': '35'},\n",
       " {'brand': 'Adidas', 'color': 'white', 'size': '39'},\n",
       " {'brand': 'Nike', 'color': 'white', 'size': '37'},\n",
       " {'brand': 'Adidas', 'color': 'orange', 'size': '37'},\n",
       " {'brand': 'Adidas', 'color': 'pink', 'size': '35'},\n",
       " {'brand': 'New Balance', 'color': 'orange', 'size': '41'},\n",
       " {'brand': 'Nike', 'color': 'pink', 'size': '44'},\n",
       " {'brand': 'Nike', 'color': 'pink', 'size': '38'},\n",
       " {'brand': 'Adidas', 'color': 'black', 'size': '39'},\n",
       " {'brand': 'New Balance', 'color': 'white', 'size': '35'},\n",
       " {'brand': 'Nike', 'color': 'pink', 'size': '40'},\n",
       " {'brand': 'Nike', 'color': 'white', 'size': '44'},\n",
       " {'brand': 'Nike', 'color': 'orange', 'size': '38'},\n",
       " {'brand': 'Adidas', 'color': 'orange', 'size': '42'},\n",
       " {'brand': 'New Balance', 'color': 'orange', 'size': '43'},\n",
       " {'brand': 'Adidas', 'color': 'pink', 'size': '39'},\n",
       " {'brand': 'Adidas', 'color': 'pink', 'size': '41'},\n",
       " {'brand': 'Adidas', 'color': 'pink', 'size': '39'},\n",
       " {'brand': 'Nike', 'color': 'white', 'size': '37'},\n",
       " {'brand': 'Nike', 'color': 'orange', 'size': '38'},\n",
       " {'brand': 'Adidas', 'color': 'orange', 'size': '39'},\n",
       " {'brand': 'Nike', 'color': 'pink', 'size': '40'},\n",
       " {'brand': 'Adidas', 'color': 'white', 'size': '36'},\n",
       " {'brand': 'Nike', 'color': 'orange', 'size': '40'},\n",
       " {'brand': 'New Balance', 'color': 'pink', 'size': '40'},\n",
       " {'brand': 'New Balance', 'color': 'black', 'size': '40'},\n",
       " {'brand': 'New Balance', 'color': 'pink', 'size': '40'},\n",
       " {'brand': 'Adidas', 'color': 'pink', 'size': '41'},\n",
       " {'brand': 'Nike', 'color': 'pink', 'size': '40'},\n",
       " {'brand': 'Nike', 'color': 'black', 'size': '41'},\n",
       " {'brand': 'Nike', 'color': 'black', 'size': '39'},\n",
       " {'brand': 'New Balance', 'color': 'white', 'size': '38'},\n",
       " {'brand': 'Adidas', 'color': 'black', 'size': '41'},\n",
       " {'brand': 'Nike', 'color': 'orange', 'size': '36'},\n",
       " {'brand': 'Nike', 'color': 'black', 'size': '38'},\n",
       " {'brand': 'New Balance', 'color': 'black', 'size': '40'},\n",
       " {'brand': 'New Balance', 'color': 'pink', 'size': '40'},\n",
       " {'brand': 'Adidas', 'color': 'black', 'size': '42'},\n",
       " {'brand': 'Adidas', 'color': 'white', 'size': '40'},\n",
       " {'brand': 'New Balance', 'color': 'orange', 'size': '38'},\n",
       " {'brand': 'Nike', 'color': 'pink', 'size': '41'},\n",
       " {'brand': 'Adidas', 'color': 'orange', 'size': '37'},\n",
       " {'brand': 'Nike', 'color': 'black', 'size': '44'},\n",
       " {'brand': 'Adidas', 'color': 'pink', 'size': '36'},\n",
       " {'brand': 'Adidas', 'color': 'white', 'size': '35'},\n",
       " {'brand': 'Nike', 'color': 'black', 'size': '38'},\n",
       " {'brand': 'Nike', 'color': 'pink', 'size': '42'},\n",
       " {'brand': 'New Balance', 'color': 'black', 'size': '43'},\n",
       " {'brand': 'Nike', 'color': 'white', 'size': '38'},\n",
       " {'brand': 'New Balance', 'color': 'pink', 'size': '39'},\n",
       " {'brand': 'Nike', 'color': 'orange', 'size': '39'},\n",
       " {'brand': 'New Balance', 'color': 'orange', 'size': '40'},\n",
       " {'brand': 'New Balance', 'color': 'white', 'size': '44'},\n",
       " {'brand': 'Adidas', 'color': 'black', 'size': '42'},\n",
       " {'brand': 'Nike', 'color': 'black', 'size': '35'}]"
      ]
     },
     "execution_count": 112,
     "metadata": {},
     "output_type": "execute_result"
    }
   ],
   "source": [
    "# Read from shoe-data.txt\n",
    "# so that we get a list of dicts\n",
    "\n",
    "# each dict will have three key-value pairs:\n",
    "# brand, color, and size\n",
    "\n",
    "# So the line:\n",
    "# Adidas\torange\t43\n",
    "# will be turned into\n",
    "# {'brand':'Adidas', 'color':'orange', 'size':'43'}\n",
    "\n",
    "# there are 100 lines (shoes) in the file,\n",
    "# so you should end up with a list of 100 dicts,\n",
    "# each representing one line in the file\n",
    "\n",
    "def line_to_dict(one_line):\n",
    "    brand, color, size = one_line.strip().split('\\t')    \n",
    "    return {'brand':brand,\n",
    "            'color':color,\n",
    "            'size':size}\n",
    "\n",
    "[line_to_dict(one_line)\n",
    "for one_line in open('shoe-data.txt')]\n"
   ]
  },
  {
   "cell_type": "code",
   "execution_count": 113,
   "metadata": {},
   "outputs": [
    {
     "data": {
      "text/plain": [
       "{}"
      ]
     },
     "execution_count": 113,
     "metadata": {},
     "output_type": "execute_result"
    }
   ],
   "source": [
    "dict()"
   ]
  },
  {
   "cell_type": "code",
   "execution_count": 114,
   "metadata": {},
   "outputs": [
    {
     "data": {
      "text/plain": [
       "{'a': 1, 'b': 2, 'c': 3}"
      ]
     },
     "execution_count": 114,
     "metadata": {},
     "output_type": "execute_result"
    }
   ],
   "source": [
    "stuff = [('a', 1), ('b',2), ('c',3)]\n",
    "dict(stuff)"
   ]
  },
  {
   "cell_type": "code",
   "execution_count": 116,
   "metadata": {},
   "outputs": [
    {
     "data": {
      "text/plain": [
       "[('a', 1), ('b', 2), ('c', 3)]"
      ]
     },
     "execution_count": 116,
     "metadata": {},
     "output_type": "execute_result"
    }
   ],
   "source": [
    "keys = 'abc'\n",
    "values = [1,2,3]\n",
    "\n",
    "list(zip(keys, values))"
   ]
  },
  {
   "cell_type": "code",
   "execution_count": 117,
   "metadata": {},
   "outputs": [
    {
     "data": {
      "text/plain": [
       "[{'brand': 'Adidas', 'color': 'orange', 'size': '43'},\n",
       " {'brand': 'Nike', 'color': 'black', 'size': '41'},\n",
       " {'brand': 'Adidas', 'color': 'black', 'size': '39'},\n",
       " {'brand': 'New Balance', 'color': 'pink', 'size': '41'},\n",
       " {'brand': 'Nike', 'color': 'white', 'size': '44'},\n",
       " {'brand': 'New Balance', 'color': 'orange', 'size': '38'},\n",
       " {'brand': 'Nike', 'color': 'pink', 'size': '44'},\n",
       " {'brand': 'Adidas', 'color': 'pink', 'size': '44'},\n",
       " {'brand': 'New Balance', 'color': 'orange', 'size': '39'},\n",
       " {'brand': 'New Balance', 'color': 'black', 'size': '43'},\n",
       " {'brand': 'New Balance', 'color': 'orange', 'size': '44'},\n",
       " {'brand': 'Nike', 'color': 'black', 'size': '41'},\n",
       " {'brand': 'Adidas', 'color': 'orange', 'size': '37'},\n",
       " {'brand': 'Adidas', 'color': 'black', 'size': '38'},\n",
       " {'brand': 'Adidas', 'color': 'pink', 'size': '41'},\n",
       " {'brand': 'Adidas', 'color': 'white', 'size': '36'},\n",
       " {'brand': 'Adidas', 'color': 'orange', 'size': '36'},\n",
       " {'brand': 'Nike', 'color': 'pink', 'size': '41'},\n",
       " {'brand': 'Adidas', 'color': 'pink', 'size': '35'},\n",
       " {'brand': 'New Balance', 'color': 'orange', 'size': '37'},\n",
       " {'brand': 'Nike', 'color': 'pink', 'size': '43'},\n",
       " {'brand': 'Nike', 'color': 'black', 'size': '43'},\n",
       " {'brand': 'Nike', 'color': 'black', 'size': '42'},\n",
       " {'brand': 'Nike', 'color': 'black', 'size': '35'},\n",
       " {'brand': 'Adidas', 'color': 'black', 'size': '41'},\n",
       " {'brand': 'New Balance', 'color': 'pink', 'size': '40'},\n",
       " {'brand': 'Adidas', 'color': 'white', 'size': '35'},\n",
       " {'brand': 'New Balance', 'color': 'pink', 'size': '41'},\n",
       " {'brand': 'New Balance', 'color': 'orange', 'size': '41'},\n",
       " {'brand': 'Adidas', 'color': 'orange', 'size': '40'},\n",
       " {'brand': 'New Balance', 'color': 'orange', 'size': '40'},\n",
       " {'brand': 'New Balance', 'color': 'white', 'size': '44'},\n",
       " {'brand': 'New Balance', 'color': 'pink', 'size': '40'},\n",
       " {'brand': 'Nike', 'color': 'black', 'size': '43'},\n",
       " {'brand': 'Nike', 'color': 'pink', 'size': '36'},\n",
       " {'brand': 'New Balance', 'color': 'white', 'size': '39'},\n",
       " {'brand': 'Nike', 'color': 'black', 'size': '42'},\n",
       " {'brand': 'Adidas', 'color': 'black', 'size': '41'},\n",
       " {'brand': 'New Balance', 'color': 'orange', 'size': '40'},\n",
       " {'brand': 'New Balance', 'color': 'black', 'size': '40'},\n",
       " {'brand': 'Nike', 'color': 'white', 'size': '37'},\n",
       " {'brand': 'Adidas', 'color': 'black', 'size': '39'},\n",
       " {'brand': 'Adidas', 'color': 'black', 'size': '40'},\n",
       " {'brand': 'Adidas', 'color': 'orange', 'size': '38'},\n",
       " {'brand': 'New Balance', 'color': 'orange', 'size': '39'},\n",
       " {'brand': 'Nike', 'color': 'black', 'size': '35'},\n",
       " {'brand': 'Adidas', 'color': 'white', 'size': '39'},\n",
       " {'brand': 'Nike', 'color': 'white', 'size': '37'},\n",
       " {'brand': 'Adidas', 'color': 'orange', 'size': '37'},\n",
       " {'brand': 'Adidas', 'color': 'pink', 'size': '35'},\n",
       " {'brand': 'New Balance', 'color': 'orange', 'size': '41'},\n",
       " {'brand': 'Nike', 'color': 'pink', 'size': '44'},\n",
       " {'brand': 'Nike', 'color': 'pink', 'size': '38'},\n",
       " {'brand': 'Adidas', 'color': 'black', 'size': '39'},\n",
       " {'brand': 'New Balance', 'color': 'white', 'size': '35'},\n",
       " {'brand': 'Nike', 'color': 'pink', 'size': '40'},\n",
       " {'brand': 'Nike', 'color': 'white', 'size': '44'},\n",
       " {'brand': 'Nike', 'color': 'orange', 'size': '38'},\n",
       " {'brand': 'Adidas', 'color': 'orange', 'size': '42'},\n",
       " {'brand': 'New Balance', 'color': 'orange', 'size': '43'},\n",
       " {'brand': 'Adidas', 'color': 'pink', 'size': '39'},\n",
       " {'brand': 'Adidas', 'color': 'pink', 'size': '41'},\n",
       " {'brand': 'Adidas', 'color': 'pink', 'size': '39'},\n",
       " {'brand': 'Nike', 'color': 'white', 'size': '37'},\n",
       " {'brand': 'Nike', 'color': 'orange', 'size': '38'},\n",
       " {'brand': 'Adidas', 'color': 'orange', 'size': '39'},\n",
       " {'brand': 'Nike', 'color': 'pink', 'size': '40'},\n",
       " {'brand': 'Adidas', 'color': 'white', 'size': '36'},\n",
       " {'brand': 'Nike', 'color': 'orange', 'size': '40'},\n",
       " {'brand': 'New Balance', 'color': 'pink', 'size': '40'},\n",
       " {'brand': 'New Balance', 'color': 'black', 'size': '40'},\n",
       " {'brand': 'New Balance', 'color': 'pink', 'size': '40'},\n",
       " {'brand': 'Adidas', 'color': 'pink', 'size': '41'},\n",
       " {'brand': 'Nike', 'color': 'pink', 'size': '40'},\n",
       " {'brand': 'Nike', 'color': 'black', 'size': '41'},\n",
       " {'brand': 'Nike', 'color': 'black', 'size': '39'},\n",
       " {'brand': 'New Balance', 'color': 'white', 'size': '38'},\n",
       " {'brand': 'Adidas', 'color': 'black', 'size': '41'},\n",
       " {'brand': 'Nike', 'color': 'orange', 'size': '36'},\n",
       " {'brand': 'Nike', 'color': 'black', 'size': '38'},\n",
       " {'brand': 'New Balance', 'color': 'black', 'size': '40'},\n",
       " {'brand': 'New Balance', 'color': 'pink', 'size': '40'},\n",
       " {'brand': 'Adidas', 'color': 'black', 'size': '42'},\n",
       " {'brand': 'Adidas', 'color': 'white', 'size': '40'},\n",
       " {'brand': 'New Balance', 'color': 'orange', 'size': '38'},\n",
       " {'brand': 'Nike', 'color': 'pink', 'size': '41'},\n",
       " {'brand': 'Adidas', 'color': 'orange', 'size': '37'},\n",
       " {'brand': 'Nike', 'color': 'black', 'size': '44'},\n",
       " {'brand': 'Adidas', 'color': 'pink', 'size': '36'},\n",
       " {'brand': 'Adidas', 'color': 'white', 'size': '35'},\n",
       " {'brand': 'Nike', 'color': 'black', 'size': '38'},\n",
       " {'brand': 'Nike', 'color': 'pink', 'size': '42'},\n",
       " {'brand': 'New Balance', 'color': 'black', 'size': '43'},\n",
       " {'brand': 'Nike', 'color': 'white', 'size': '38'},\n",
       " {'brand': 'New Balance', 'color': 'pink', 'size': '39'},\n",
       " {'brand': 'Nike', 'color': 'orange', 'size': '39'},\n",
       " {'brand': 'New Balance', 'color': 'orange', 'size': '40'},\n",
       " {'brand': 'New Balance', 'color': 'white', 'size': '44'},\n",
       " {'brand': 'Adidas', 'color': 'black', 'size': '42'},\n",
       " {'brand': 'Nike', 'color': 'black', 'size': '35'}]"
      ]
     },
     "execution_count": 117,
     "metadata": {},
     "output_type": "execute_result"
    }
   ],
   "source": [
    "def line_to_dict(one_line):\n",
    "    return dict(zip(['brand', 'color', 'size'],\n",
    "                     one_line.strip().split('\\t')))\n",
    "\n",
    "[line_to_dict(one_line)\n",
    "for one_line in open('shoe-data.txt')]"
   ]
  },
  {
   "cell_type": "code",
   "execution_count": 121,
   "metadata": {},
   "outputs": [
    {
     "data": {
      "text/plain": [
       "{'/bin/bash', '/bin/sh', '/usr/bin/false', '/usr/sbin/uucico'}"
      ]
     },
     "execution_count": 121,
     "metadata": {},
     "output_type": "execute_result"
    }
   ],
   "source": [
    "# what different Unix shells are in use on my computer?\n",
    "\n",
    "set([one_line.split(':')[-1].strip()\n",
    "for one_line in open('/etc/passwd')\n",
    "if not one_line.startswith(\"#\")])"
   ]
  },
  {
   "cell_type": "code",
   "execution_count": 122,
   "metadata": {},
   "outputs": [
    {
     "data": {
      "text/plain": [
       "{'/bin/bash', '/bin/sh', '/usr/bin/false', '/usr/sbin/uucico'}"
      ]
     },
     "execution_count": 122,
     "metadata": {},
     "output_type": "execute_result"
    }
   ],
   "source": [
    "# set comprehension -- replace [] with {}\n",
    "\n",
    "{one_line.split(':')[-1].strip()\n",
    " for one_line in open('/etc/passwd')\n",
    " if not one_line.startswith(\"#\") }"
   ]
  },
  {
   "cell_type": "code",
   "execution_count": null,
   "metadata": {},
   "outputs": [],
   "source": [
    "# ask the user to enter a bunch of numbers, separated by \n",
    "# spaces.  Sum the DIFFERENT/unique numbers they enter.\n",
    "# If they enter something that isn't a number, ignore it.\n",
    "\n",
    "Numbers: 1 2 3\n",
    "Sum: 6\n",
    "    \n",
    "Numbers: 1 2 1 2 3 abc 3 2 1\n",
    "Sum: 6\n",
    "    "
   ]
  },
  {
   "cell_type": "code",
   "execution_count": 125,
   "metadata": {
    "collapsed": true
   },
   "outputs": [
    {
     "data": {
      "text/plain": [
       "[['nobody',\n",
       "  '*',\n",
       "  '-2',\n",
       "  '-2',\n",
       "  'Unprivileged User',\n",
       "  '/var/empty',\n",
       "  '/usr/bin/false\\n'],\n",
       " ['root', '*', '0', '0', 'System Administrator', '/var/root', '/bin/sh\\n'],\n",
       " ['daemon', '*', '1', '1', 'System Services', '/var/root', '/usr/bin/false\\n'],\n",
       " ['_uucp',\n",
       "  '*',\n",
       "  '4',\n",
       "  '4',\n",
       "  'Unix to Unix Copy Protocol',\n",
       "  '/var/spool/uucp',\n",
       "  '/usr/sbin/uucico\\n'],\n",
       " ['_taskgated',\n",
       "  '*',\n",
       "  '13',\n",
       "  '13',\n",
       "  'Task Gate Daemon',\n",
       "  '/var/empty',\n",
       "  '/usr/bin/false\\n'],\n",
       " ['_networkd',\n",
       "  '*',\n",
       "  '24',\n",
       "  '24',\n",
       "  'Network Services',\n",
       "  '/var/networkd',\n",
       "  '/usr/bin/false\\n'],\n",
       " ['_installassistant',\n",
       "  '*',\n",
       "  '25',\n",
       "  '25',\n",
       "  'Install Assistant',\n",
       "  '/var/empty',\n",
       "  '/usr/bin/false\\n'],\n",
       " ['_lp',\n",
       "  '*',\n",
       "  '26',\n",
       "  '26',\n",
       "  'Printing Services',\n",
       "  '/var/spool/cups',\n",
       "  '/usr/bin/false\\n'],\n",
       " ['_postfix',\n",
       "  '*',\n",
       "  '27',\n",
       "  '27',\n",
       "  'Postfix Mail Server',\n",
       "  '/var/spool/postfix',\n",
       "  '/usr/bin/false\\n'],\n",
       " ['_scsd',\n",
       "  '*',\n",
       "  '31',\n",
       "  '31',\n",
       "  'Service Configuration Service',\n",
       "  '/var/empty',\n",
       "  '/usr/bin/false\\n'],\n",
       " ['_ces',\n",
       "  '*',\n",
       "  '32',\n",
       "  '32',\n",
       "  'Certificate Enrollment Service',\n",
       "  '/var/empty',\n",
       "  '/usr/bin/false\\n'],\n",
       " ['_appstore',\n",
       "  '*',\n",
       "  '33',\n",
       "  '33',\n",
       "  'Mac App Store Service',\n",
       "  '/var/db/appstore',\n",
       "  '/usr/bin/false\\n'],\n",
       " ['_mcxalr',\n",
       "  '*',\n",
       "  '54',\n",
       "  '54',\n",
       "  'MCX AppLaunch',\n",
       "  '/var/empty',\n",
       "  '/usr/bin/false\\n'],\n",
       " ['_appleevents',\n",
       "  '*',\n",
       "  '55',\n",
       "  '55',\n",
       "  'AppleEvents Daemon',\n",
       "  '/var/empty',\n",
       "  '/usr/bin/false\\n'],\n",
       " ['_geod',\n",
       "  '*',\n",
       "  '56',\n",
       "  '56',\n",
       "  'Geo Services Daemon',\n",
       "  '/var/db/geod',\n",
       "  '/usr/bin/false\\n'],\n",
       " ['_devdocs',\n",
       "  '*',\n",
       "  '59',\n",
       "  '59',\n",
       "  'Developer Documentation',\n",
       "  '/var/empty',\n",
       "  '/usr/bin/false\\n'],\n",
       " ['_sandbox', '*', '60', '60', 'Seatbelt', '/var/empty', '/usr/bin/false\\n'],\n",
       " ['_mdnsresponder',\n",
       "  '*',\n",
       "  '65',\n",
       "  '65',\n",
       "  'mDNSResponder',\n",
       "  '/var/empty',\n",
       "  '/usr/bin/false\\n'],\n",
       " ['_ard',\n",
       "  '*',\n",
       "  '67',\n",
       "  '67',\n",
       "  'Apple Remote Desktop',\n",
       "  '/var/empty',\n",
       "  '/usr/bin/false\\n'],\n",
       " ['_www',\n",
       "  '*',\n",
       "  '70',\n",
       "  '70',\n",
       "  'World Wide Web Server',\n",
       "  '/Library/WebServer',\n",
       "  '/usr/bin/false\\n'],\n",
       " ['_eppc',\n",
       "  '*',\n",
       "  '71',\n",
       "  '71',\n",
       "  'Apple Events User',\n",
       "  '/var/empty',\n",
       "  '/usr/bin/false\\n'],\n",
       " ['_cvs', '*', '72', '72', 'CVS Server', '/var/empty', '/usr/bin/false\\n'],\n",
       " ['_svn', '*', '73', '73', 'SVN Server', '/var/empty', '/usr/bin/false\\n'],\n",
       " ['_mysql', '*', '74', '74', 'MySQL Server', '/var/empty', '/usr/bin/false\\n'],\n",
       " ['_sshd',\n",
       "  '*',\n",
       "  '75',\n",
       "  '75',\n",
       "  'sshd Privilege separation',\n",
       "  '/var/empty',\n",
       "  '/usr/bin/false\\n'],\n",
       " ['_qtss',\n",
       "  '*',\n",
       "  '76',\n",
       "  '76',\n",
       "  'QuickTime Streaming Server',\n",
       "  '/var/empty',\n",
       "  '/usr/bin/false\\n'],\n",
       " ['_cyrus',\n",
       "  '*',\n",
       "  '77',\n",
       "  '6',\n",
       "  'Cyrus Administrator',\n",
       "  '/var/imap',\n",
       "  '/usr/bin/false\\n'],\n",
       " ['_mailman',\n",
       "  '*',\n",
       "  '78',\n",
       "  '78',\n",
       "  'Mailman List Server',\n",
       "  '/var/empty',\n",
       "  '/usr/bin/false\\n'],\n",
       " ['_appserver',\n",
       "  '*',\n",
       "  '79',\n",
       "  '79',\n",
       "  'Application Server',\n",
       "  '/var/empty',\n",
       "  '/usr/bin/false\\n'],\n",
       " ['_clamav',\n",
       "  '*',\n",
       "  '82',\n",
       "  '82',\n",
       "  'ClamAV Daemon',\n",
       "  '/var/virusmails',\n",
       "  '/usr/bin/false\\n'],\n",
       " ['_amavisd',\n",
       "  '*',\n",
       "  '83',\n",
       "  '83',\n",
       "  'AMaViS Daemon',\n",
       "  '/var/virusmails',\n",
       "  '/usr/bin/false\\n'],\n",
       " ['_jabber',\n",
       "  '*',\n",
       "  '84',\n",
       "  '84',\n",
       "  'Jabber XMPP Server',\n",
       "  '/var/empty',\n",
       "  '/usr/bin/false\\n'],\n",
       " ['_appowner',\n",
       "  '*',\n",
       "  '87',\n",
       "  '87',\n",
       "  'Application Owner',\n",
       "  '/var/empty',\n",
       "  '/usr/bin/false\\n'],\n",
       " ['_windowserver',\n",
       "  '*',\n",
       "  '88',\n",
       "  '88',\n",
       "  'WindowServer',\n",
       "  '/var/empty',\n",
       "  '/usr/bin/false\\n'],\n",
       " ['_spotlight',\n",
       "  '*',\n",
       "  '89',\n",
       "  '89',\n",
       "  'Spotlight',\n",
       "  '/var/empty',\n",
       "  '/usr/bin/false\\n'],\n",
       " ['_tokend',\n",
       "  '*',\n",
       "  '91',\n",
       "  '91',\n",
       "  'Token Daemon',\n",
       "  '/var/empty',\n",
       "  '/usr/bin/false\\n'],\n",
       " ['_securityagent',\n",
       "  '*',\n",
       "  '92',\n",
       "  '92',\n",
       "  'SecurityAgent',\n",
       "  '/var/db/securityagent',\n",
       "  '/usr/bin/false\\n'],\n",
       " ['_calendar', '*', '93', '93', 'Calendar', '/var/empty', '/usr/bin/false\\n'],\n",
       " ['_teamsserver',\n",
       "  '*',\n",
       "  '94',\n",
       "  '94',\n",
       "  'TeamsServer',\n",
       "  '/var/teamsserver',\n",
       "  '/usr/bin/false\\n'],\n",
       " ['_update_sharing',\n",
       "  '*',\n",
       "  '95',\n",
       "  '-2',\n",
       "  'Update Sharing',\n",
       "  '/var/empty',\n",
       "  '/usr/bin/false\\n'],\n",
       " ['_installer',\n",
       "  '*',\n",
       "  '96',\n",
       "  '-2',\n",
       "  'Installer',\n",
       "  '/var/empty',\n",
       "  '/usr/bin/false\\n'],\n",
       " ['_atsserver',\n",
       "  '*',\n",
       "  '97',\n",
       "  '97',\n",
       "  'ATS Server',\n",
       "  '/var/empty',\n",
       "  '/usr/bin/false\\n'],\n",
       " ['_ftp', '*', '98', '-2', 'FTP Daemon', '/var/empty', '/usr/bin/false\\n'],\n",
       " ['_unknown',\n",
       "  '*',\n",
       "  '99',\n",
       "  '99',\n",
       "  'Unknown User',\n",
       "  '/var/empty',\n",
       "  '/usr/bin/false\\n'],\n",
       " ['_softwareupdate',\n",
       "  '*',\n",
       "  '200',\n",
       "  '200',\n",
       "  'Software Update Service',\n",
       "  '/var/db/softwareupdate',\n",
       "  '/usr/bin/false\\n'],\n",
       " ['_coreaudiod',\n",
       "  '*',\n",
       "  '202',\n",
       "  '202',\n",
       "  'Core Audio Daemon',\n",
       "  '/var/empty',\n",
       "  '/usr/bin/false\\n'],\n",
       " ['_screensaver',\n",
       "  '*',\n",
       "  '203',\n",
       "  '203',\n",
       "  'Screensaver',\n",
       "  '/var/empty',\n",
       "  '/usr/bin/false\\n'],\n",
       " ['_locationd',\n",
       "  '*',\n",
       "  '205',\n",
       "  '205',\n",
       "  'Location Daemon',\n",
       "  '/var/db/locationd',\n",
       "  '/usr/bin/false\\n'],\n",
       " ['_trustevaluationagent',\n",
       "  '*',\n",
       "  '208',\n",
       "  '208',\n",
       "  'Trust Evaluation Agent',\n",
       "  '/var/empty',\n",
       "  '/usr/bin/false\\n'],\n",
       " ['_timezone',\n",
       "  '*',\n",
       "  '210',\n",
       "  '210',\n",
       "  'AutoTimeZoneDaemon',\n",
       "  '/var/empty',\n",
       "  '/usr/bin/false\\n'],\n",
       " ['_lda',\n",
       "  '*',\n",
       "  '211',\n",
       "  '211',\n",
       "  'Local Delivery Agent',\n",
       "  '/var/empty',\n",
       "  '/usr/bin/false\\n'],\n",
       " ['_cvmsroot',\n",
       "  '*',\n",
       "  '212',\n",
       "  '212',\n",
       "  'CVMS Root',\n",
       "  '/var/empty',\n",
       "  '/usr/bin/false\\n'],\n",
       " ['_usbmuxd',\n",
       "  '*',\n",
       "  '213',\n",
       "  '213',\n",
       "  'iPhone OS Device Helper',\n",
       "  '/var/db/lockdown',\n",
       "  '/usr/bin/false\\n'],\n",
       " ['_dovecot',\n",
       "  '*',\n",
       "  '214',\n",
       "  '6',\n",
       "  'Dovecot Administrator',\n",
       "  '/var/empty',\n",
       "  '/usr/bin/false\\n'],\n",
       " ['_dpaudio', '*', '215', '215', 'DP Audio', '/var/empty', '/usr/bin/false\\n'],\n",
       " ['_postgres',\n",
       "  '*',\n",
       "  '216',\n",
       "  '216',\n",
       "  'PostgreSQL Server',\n",
       "  '/var/empty',\n",
       "  '/usr/bin/false\\n'],\n",
       " ['_krbtgt',\n",
       "  '*',\n",
       "  '217',\n",
       "  '-2',\n",
       "  'Kerberos Ticket Granting Ticket',\n",
       "  '/var/empty',\n",
       "  '/usr/bin/false\\n'],\n",
       " ['_kadmin_admin',\n",
       "  '*',\n",
       "  '218',\n",
       "  '-2',\n",
       "  'Kerberos Admin Service',\n",
       "  '/var/empty',\n",
       "  '/usr/bin/false\\n'],\n",
       " ['_kadmin_changepw',\n",
       "  '*',\n",
       "  '219',\n",
       "  '-2',\n",
       "  'Kerberos Change Password Service',\n",
       "  '/var/empty',\n",
       "  '/usr/bin/false\\n'],\n",
       " ['_devicemgr',\n",
       "  '*',\n",
       "  '220',\n",
       "  '220',\n",
       "  'Device Management Server',\n",
       "  '/var/empty',\n",
       "  '/usr/bin/false\\n'],\n",
       " ['_webauthserver',\n",
       "  '*',\n",
       "  '221',\n",
       "  '221',\n",
       "  'Web Auth Server',\n",
       "  '/var/empty',\n",
       "  '/usr/bin/false\\n'],\n",
       " ['_netbios', '*', '222', '222', 'NetBIOS', '/var/empty', '/usr/bin/false\\n'],\n",
       " ['_warmd',\n",
       "  '*',\n",
       "  '224',\n",
       "  '224',\n",
       "  'Warm Daemon',\n",
       "  '/var/empty',\n",
       "  '/usr/bin/false\\n'],\n",
       " ['_dovenull',\n",
       "  '*',\n",
       "  '227',\n",
       "  '227',\n",
       "  'Dovecot Authentication',\n",
       "  '/var/empty',\n",
       "  '/usr/bin/false\\n'],\n",
       " ['_netstatistics',\n",
       "  '*',\n",
       "  '228',\n",
       "  '228',\n",
       "  'Network Statistics Daemon',\n",
       "  '/var/empty',\n",
       "  '/usr/bin/false\\n'],\n",
       " ['_avbdeviced',\n",
       "  '*',\n",
       "  '229',\n",
       "  '-2',\n",
       "  'Ethernet AVB Device Daemon',\n",
       "  '/var/empty',\n",
       "  '/usr/bin/false\\n'],\n",
       " ['_krb_krbtgt',\n",
       "  '*',\n",
       "  '230',\n",
       "  '-2',\n",
       "  'Open Directory Kerberos Ticket Granting Ticket',\n",
       "  '/var/empty',\n",
       "  '/usr/bin/false\\n'],\n",
       " ['_krb_kadmin',\n",
       "  '*',\n",
       "  '231',\n",
       "  '-2',\n",
       "  'Open Directory Kerberos Admin Service',\n",
       "  '/var/empty',\n",
       "  '/usr/bin/false\\n'],\n",
       " ['_krb_changepw',\n",
       "  '*',\n",
       "  '232',\n",
       "  '-2',\n",
       "  'Open Directory Kerberos Change Password Service',\n",
       "  '/var/empty',\n",
       "  '/usr/bin/false\\n'],\n",
       " ['_krb_kerberos',\n",
       "  '*',\n",
       "  '233',\n",
       "  '-2',\n",
       "  'Open Directory Kerberos',\n",
       "  '/var/empty',\n",
       "  '/usr/bin/false\\n'],\n",
       " ['_krb_anonymous',\n",
       "  '*',\n",
       "  '234',\n",
       "  '-2',\n",
       "  'Open Directory Kerberos Anonymous',\n",
       "  '/var/empty',\n",
       "  '/usr/bin/false\\n'],\n",
       " ['_assetcache',\n",
       "  '*',\n",
       "  '235',\n",
       "  '235',\n",
       "  'Asset Cache Service',\n",
       "  '/var/empty',\n",
       "  '/usr/bin/false\\n'],\n",
       " ['_coremediaiod',\n",
       "  '*',\n",
       "  '236',\n",
       "  '236',\n",
       "  'Core Media IO Daemon',\n",
       "  '/var/empty',\n",
       "  '/usr/bin/false\\n'],\n",
       " ['_launchservicesd',\n",
       "  '*',\n",
       "  '239',\n",
       "  '239',\n",
       "  '_launchservicesd',\n",
       "  '/var/empty',\n",
       "  '/usr/bin/false\\n'],\n",
       " ['_iconservices',\n",
       "  '*',\n",
       "  '240',\n",
       "  '240',\n",
       "  'IconServices',\n",
       "  '/var/empty',\n",
       "  '/usr/bin/false\\n'],\n",
       " ['_distnote',\n",
       "  '*',\n",
       "  '241',\n",
       "  '241',\n",
       "  'DistNote',\n",
       "  '/var/empty',\n",
       "  '/usr/bin/false\\n'],\n",
       " ['_nsurlsessiond',\n",
       "  '*',\n",
       "  '242',\n",
       "  '242',\n",
       "  'NSURLSession Daemon',\n",
       "  '/var/db/nsurlsessiond',\n",
       "  '/usr/bin/false\\n'],\n",
       " ['_nsurlstoraged',\n",
       "  '*',\n",
       "  '243',\n",
       "  '243',\n",
       "  'NSURLStorage Daemon',\n",
       "  '/var/db/nsurlstoraged',\n",
       "  '/usr/bin/false\\n'],\n",
       " ['_displaypolicyd',\n",
       "  '*',\n",
       "  '244',\n",
       "  '244',\n",
       "  'Display Policy Daemon',\n",
       "  '/var/empty',\n",
       "  '/usr/bin/false\\n'],\n",
       " ['_astris',\n",
       "  '*',\n",
       "  '245',\n",
       "  '245',\n",
       "  'Astris Services',\n",
       "  '/var/db/astris',\n",
       "  '/usr/bin/false\\n'],\n",
       " ['_krbfast',\n",
       "  '*',\n",
       "  '246',\n",
       "  '-2',\n",
       "  'Kerberos FAST Account',\n",
       "  '/var/empty',\n",
       "  '/usr/bin/false\\n'],\n",
       " ['_gamecontrollerd',\n",
       "  '*',\n",
       "  '247',\n",
       "  '247',\n",
       "  'Game Controller Daemon',\n",
       "  '/var/empty',\n",
       "  '/usr/bin/false\\n'],\n",
       " ['_mbsetupuser',\n",
       "  '*',\n",
       "  '248',\n",
       "  '248',\n",
       "  'Setup User',\n",
       "  '/var/setup',\n",
       "  '/bin/bash\\n'],\n",
       " ['_ondemand',\n",
       "  '*',\n",
       "  '249',\n",
       "  '249',\n",
       "  'On Demand Resource Daemon',\n",
       "  '/var/db/ondemand',\n",
       "  '/usr/bin/false\\n'],\n",
       " ['_xserverdocs',\n",
       "  '*',\n",
       "  '251',\n",
       "  '251',\n",
       "  'macOS Server Documents Service',\n",
       "  '/var/empty',\n",
       "  '/usr/bin/false\\n'],\n",
       " ['_wwwproxy',\n",
       "  '*',\n",
       "  '252',\n",
       "  '252',\n",
       "  'WWW Proxy',\n",
       "  '/var/empty',\n",
       "  '/usr/bin/false\\n'],\n",
       " ['_mobileasset',\n",
       "  '*',\n",
       "  '253',\n",
       "  '253',\n",
       "  'MobileAsset User',\n",
       "  '/var/ma',\n",
       "  '/usr/bin/false\\n'],\n",
       " ['_findmydevice',\n",
       "  '*',\n",
       "  '254',\n",
       "  '254',\n",
       "  'Find My Device Daemon',\n",
       "  '/var/db/findmydevice',\n",
       "  '/usr/bin/false\\n'],\n",
       " ['_datadetectors',\n",
       "  '*',\n",
       "  '257',\n",
       "  '257',\n",
       "  'DataDetectors',\n",
       "  '/var/db/datadetectors',\n",
       "  '/usr/bin/false\\n'],\n",
       " ['_captiveagent',\n",
       "  '*',\n",
       "  '258',\n",
       "  '258',\n",
       "  'captiveagent',\n",
       "  '/var/empty',\n",
       "  '/usr/bin/false\\n'],\n",
       " ['_ctkd',\n",
       "  '*',\n",
       "  '259',\n",
       "  '259',\n",
       "  'ctkd Account',\n",
       "  '/var/empty',\n",
       "  '/usr/bin/false\\n'],\n",
       " ['_applepay',\n",
       "  '*',\n",
       "  '260',\n",
       "  '260',\n",
       "  'applepay Account',\n",
       "  '/var/db/applepay',\n",
       "  '/usr/bin/false\\n'],\n",
       " ['_hidd',\n",
       "  '*',\n",
       "  '261',\n",
       "  '261',\n",
       "  'HID Service User',\n",
       "  '/var/db/hidd',\n",
       "  '/usr/bin/false\\n'],\n",
       " ['_cmiodalassistants',\n",
       "  '*',\n",
       "  '262',\n",
       "  '262',\n",
       "  'CoreMedia IO Assistants User',\n",
       "  '/var/db/cmiodalassistants',\n",
       "  '/usr/bin/false\\n'],\n",
       " ['_analyticsd',\n",
       "  '*',\n",
       "  '263',\n",
       "  '263',\n",
       "  'Analytics Daemon',\n",
       "  '/var/db/analyticsd',\n",
       "  '/usr/bin/false\\n'],\n",
       " ['_fpsd',\n",
       "  '*',\n",
       "  '265',\n",
       "  '265',\n",
       "  'FPS Daemon',\n",
       "  '/var/db/fpsd',\n",
       "  '/usr/bin/false\\n'],\n",
       " ['_timed',\n",
       "  '*',\n",
       "  '266',\n",
       "  '266',\n",
       "  'Time Sync Daemon',\n",
       "  '/var/db/timed',\n",
       "  '/usr/bin/false\\n'],\n",
       " ['_nearbyd',\n",
       "  '*',\n",
       "  '268',\n",
       "  '268',\n",
       "  'Proximity and Ranging Daemon',\n",
       "  '/var/db/nearbyd',\n",
       "  '/usr/bin/false\\n'],\n",
       " ['_reportmemoryexception',\n",
       "  '*',\n",
       "  '269',\n",
       "  '269',\n",
       "  'ReportMemoryException',\n",
       "  '/var/db/reportmemoryexception',\n",
       "  '/usr/bin/false\\n'],\n",
       " ['_driverkit',\n",
       "  '*',\n",
       "  '270',\n",
       "  '270',\n",
       "  'DriverKit',\n",
       "  '/var/empty',\n",
       "  '/usr/bin/false\\n']]"
      ]
     },
     "execution_count": 125,
     "metadata": {},
     "output_type": "execute_result"
    }
   ],
   "source": [
    "[one_line.split(':')\n",
    " for one_line in open('/etc/passwd')\n",
    " if not one_line.startswith(\"#\") ]"
   ]
  },
  {
   "cell_type": "code",
   "execution_count": 135,
   "metadata": {},
   "outputs": [
    {
     "name": "stdout",
     "output_type": "stream",
     "text": [
      "Enter some numbers: 1 2 3 1 2 3 abc def\n"
     ]
    }
   ],
   "source": [
    "s = input(\"Enter some numbers: \")"
   ]
  },
  {
   "cell_type": "code",
   "execution_count": 137,
   "metadata": {},
   "outputs": [
    {
     "data": {
      "text/plain": [
       "6"
      ]
     },
     "execution_count": 137,
     "metadata": {},
     "output_type": "execute_result"
    }
   ],
   "source": [
    "sum({int(one_item)\n",
    "     for one_item in s.split()\n",
    "    if one_item.isdigit()})"
   ]
  },
  {
   "cell_type": "code",
   "execution_count": 138,
   "metadata": {},
   "outputs": [
    {
     "data": {
      "text/plain": [
       "{1, 2, 3}"
      ]
     },
     "execution_count": 138,
     "metadata": {},
     "output_type": "execute_result"
    }
   ],
   "source": [
    "{int(one_item)                   # return an int ... but uniquely\n",
    "     for one_item in s.split()   # for each word in s\n",
    "     if one_item.isdigit()}      # but only if we CAN int()-ify it"
   ]
  },
  {
   "cell_type": "code",
   "execution_count": 139,
   "metadata": {},
   "outputs": [
    {
     "name": "stdout",
     "output_type": "stream",
     "text": [
      "67.218.116.165 - - [30/Jan/2010:00:03:18 +0200] \"GET /robots.txt HTTP/1.0\" 200 99 \"-\" \"Mozilla/5.0 (Twiceler-0.9 http://www.cuil.com/twiceler/robot.html)\"\r\n",
      "66.249.71.65 - - [30/Jan/2010:00:12:06 +0200] \"GET /browse/one_node/1557 HTTP/1.1\" 200 39208 \"-\" \"Mozilla/5.0 (compatible; Googlebot/2.1; +http://www.google.com/bot.html)\"\r\n",
      "65.55.106.183 - - [30/Jan/2010:01:29:23 +0200] \"GET /robots.txt HTTP/1.1\" 200 99 \"-\" \"msnbot/2.0b (+http://search.msn.com/msnbot.htm)\"\r\n",
      "65.55.106.183 - - [30/Jan/2010:01:30:06 +0200] \"GET /browse/one_model/2162 HTTP/1.1\" 200 2181 \"-\" \"msnbot/2.0b (+http://search.msn.com/msnbot.htm)\"\r\n",
      "66.249.71.65 - - [30/Jan/2010:02:07:14 +0200] \"GET /browse/browse_applet_tab/2593 HTTP/1.1\" 200 10305 \"-\" \"Mozilla/5.0 (compatible; Googlebot/2.1; +http://www.google.com/bot.html)\"\r\n",
      "66.249.71.65 - - [30/Jan/2010:02:10:39 +0200] \"GET /browse/browse_files_tab/2499?tab=true HTTP/1.1\" 200 446 \"-\" \"Mozilla/5.0 (compatible; Googlebot/2.1; +http://www.google.com/bot.html)\"\r\n",
      "66.249.65.12 - - [30/Jan/2010:03:13:34 +0200] \"GET /robots.txt HTTP/1.1\" 200 99 \"-\" \"Mozilla/5.0 (compatible; Googlebot/2.1; +http://www.google.com/bot.html)\"\r\n",
      "66.249.65.12 - - [30/Jan/2010:03:13:34 +0200] \"GET /browse/one_node/2715 HTTP/1.1\" 200 26433 \"-\" \"Mozilla/5.0 (compatible; Googlebot/2.1; +http://www.google.com/bot.html)\"\r\n",
      "66.249.65.12 - - [30/Jan/2010:03:43:39 +0200] \"GET /browse/download_model/1969 HTTP/1.1\" 200 31713 \"-\" \"Mozilla/5.0 (compatible; Googlebot/2.1; +http://www.google.com/bot.html)\"\r\n",
      "66.249.65.12 - - [30/Jan/2010:04:05:43 +0200] \"GET /browse/one_node/1406 HTTP/1.1\" 302 118 \"-\" \"Mozilla/5.0 (compatible; Googlebot/2.1; +http://www.google.com/bot.html)\"\r\n"
     ]
    }
   ],
   "source": [
    "!head mini-access-log.txt"
   ]
  },
  {
   "cell_type": "code",
   "execution_count": 142,
   "metadata": {},
   "outputs": [
    {
     "data": {
      "text/plain": [
       "{'208.80.193.28',\n",
       " '65.55.106.131',\n",
       " '65.55.106.155',\n",
       " '65.55.106.183',\n",
       " '65.55.106.186',\n",
       " '65.55.207.126',\n",
       " '65.55.207.25',\n",
       " '65.55.207.50',\n",
       " '65.55.207.71',\n",
       " '65.55.207.77',\n",
       " '65.55.207.94',\n",
       " '65.55.215.75',\n",
       " '66.249.65.12',\n",
       " '66.249.65.38',\n",
       " '66.249.65.43',\n",
       " '66.249.71.65',\n",
       " '67.195.112.35',\n",
       " '67.218.116.165',\n",
       " '74.52.245.146',\n",
       " '82.34.9.20',\n",
       " '89.248.172.58',\n",
       " '98.242.170.241'}"
      ]
     },
     "execution_count": 142,
     "metadata": {},
     "output_type": "execute_result"
    }
   ],
   "source": [
    "# what are the different IP addresses that made requests\n",
    "# to my Apache server?\n",
    "\n",
    "{one_line.split()[0]\n",
    "for one_line in open('mini-access-log.txt')}"
   ]
  },
  {
   "cell_type": "code",
   "execution_count": 144,
   "metadata": {},
   "outputs": [
    {
     "data": {
      "text/plain": [
       "Counter({'67.218.116.165': 2,\n",
       "         '66.249.71.65': 3,\n",
       "         '65.55.106.183': 2,\n",
       "         '66.249.65.12': 32,\n",
       "         '65.55.106.131': 2,\n",
       "         '65.55.106.186': 2,\n",
       "         '74.52.245.146': 2,\n",
       "         '66.249.65.43': 3,\n",
       "         '65.55.207.25': 2,\n",
       "         '65.55.207.94': 2,\n",
       "         '65.55.207.71': 1,\n",
       "         '98.242.170.241': 1,\n",
       "         '66.249.65.38': 100,\n",
       "         '65.55.207.126': 2,\n",
       "         '82.34.9.20': 2,\n",
       "         '65.55.106.155': 2,\n",
       "         '65.55.207.77': 2,\n",
       "         '208.80.193.28': 1,\n",
       "         '89.248.172.58': 22,\n",
       "         '67.195.112.35': 16,\n",
       "         '65.55.207.50': 3,\n",
       "         '65.55.215.75': 2})"
      ]
     },
     "execution_count": 144,
     "metadata": {},
     "output_type": "execute_result"
    }
   ],
   "source": [
    "from collections import Counter\n",
    "\n",
    "c = Counter([one_line.split()[0]\n",
    "            for one_line in open('mini-access-log.txt')])\n",
    "c"
   ]
  },
  {
   "cell_type": "code",
   "execution_count": 145,
   "metadata": {},
   "outputs": [
    {
     "data": {
      "text/plain": [
       "[('66.249.65.38', 100), ('66.249.65.12', 32), ('89.248.172.58', 22)]"
      ]
     },
     "execution_count": 145,
     "metadata": {},
     "output_type": "execute_result"
    }
   ],
   "source": [
    "c.most_common(3)"
   ]
  },
  {
   "cell_type": "code",
   "execution_count": 148,
   "metadata": {},
   "outputs": [
    {
     "name": "stdout",
     "output_type": "stream",
     "text": [
      "67.218.116.165      : xx\n",
      "66.249.71.65        : xxx\n",
      "65.55.106.183       : xx\n",
      "66.249.65.12        : xxxxxxxxxxxxxxxxxxxxxxxxxxxxxxxx\n",
      "65.55.106.131       : xx\n",
      "65.55.106.186       : xx\n",
      "74.52.245.146       : xx\n",
      "66.249.65.43        : xxx\n",
      "65.55.207.25        : xx\n",
      "65.55.207.94        : xx\n",
      "65.55.207.71        : x\n",
      "98.242.170.241      : x\n",
      "66.249.65.38        : xxxxxxxxxxxxxxxxxxxxxxxxxxxxxxxxxxxxxxxxxxxxxxxxxxxxxxxxxxxxxxxxxxxxxxxxxxxxxxxxxxxxxxxxxxxxxxxxxxxx\n",
      "65.55.207.126       : xx\n",
      "82.34.9.20          : xx\n",
      "65.55.106.155       : xx\n",
      "65.55.207.77        : xx\n",
      "208.80.193.28       : x\n",
      "89.248.172.58       : xxxxxxxxxxxxxxxxxxxxxx\n",
      "67.195.112.35       : xxxxxxxxxxxxxxxx\n",
      "65.55.207.50        : xxx\n",
      "65.55.215.75        : xx\n"
     ]
    }
   ],
   "source": [
    "for key, value in c.items():\n",
    "    print(f'{key:20}: {value * \"x\"}')"
   ]
  },
  {
   "cell_type": "code",
   "execution_count": 149,
   "metadata": {},
   "outputs": [
    {
     "name": "stdout",
     "output_type": "stream",
     "text": [
      "##\r\n",
      "# User Database\r\n",
      "# \r\n",
      "# Note that this file is consulted directly only when the system is running\r\n",
      "# in single-user mode.  At other times this information is provided by\r\n",
      "# Open Directory.\r\n",
      "#\r\n",
      "# See the opendirectoryd(8) man page for additional information about\r\n",
      "# Open Directory.\r\n",
      "##\r\n",
      "nobody:*:-2:-2:Unprivileged User:/var/empty:/usr/bin/false\r\n",
      "root:*:0:0:System Administrator:/var/root:/bin/sh\r\n",
      "daemon:*:1:1:System Services:/var/root:/usr/bin/false\r\n",
      "_uucp:*:4:4:Unix to Unix Copy Protocol:/var/spool/uucp:/usr/sbin/uucico\r\n",
      "_taskgated:*:13:13:Task Gate Daemon:/var/empty:/usr/bin/false\r\n",
      "_networkd:*:24:24:Network Services:/var/networkd:/usr/bin/false\r\n",
      "_installassistant:*:25:25:Install Assistant:/var/empty:/usr/bin/false\r\n",
      "_lp:*:26:26:Printing Services:/var/spool/cups:/usr/bin/false\r\n",
      "_postfix:*:27:27:Postfix Mail Server:/var/spool/postfix:/usr/bin/false\r\n",
      "_scsd:*:31:31:Service Configuration Service:/var/empty:/usr/bin/false\r\n"
     ]
    }
   ],
   "source": [
    "!head -20 /etc/passwd"
   ]
  },
  {
   "cell_type": "code",
   "execution_count": 152,
   "metadata": {
    "collapsed": true
   },
   "outputs": [
    {
     "data": {
      "text/plain": [
       "[('nobody', '-2'),\n",
       " ('root', '0'),\n",
       " ('daemon', '1'),\n",
       " ('_uucp', '4'),\n",
       " ('_taskgated', '13'),\n",
       " ('_networkd', '24'),\n",
       " ('_installassistant', '25'),\n",
       " ('_lp', '26'),\n",
       " ('_postfix', '27'),\n",
       " ('_scsd', '31'),\n",
       " ('_ces', '32'),\n",
       " ('_appstore', '33'),\n",
       " ('_mcxalr', '54'),\n",
       " ('_appleevents', '55'),\n",
       " ('_geod', '56'),\n",
       " ('_devdocs', '59'),\n",
       " ('_sandbox', '60'),\n",
       " ('_mdnsresponder', '65'),\n",
       " ('_ard', '67'),\n",
       " ('_www', '70'),\n",
       " ('_eppc', '71'),\n",
       " ('_cvs', '72'),\n",
       " ('_svn', '73'),\n",
       " ('_mysql', '74'),\n",
       " ('_sshd', '75'),\n",
       " ('_qtss', '76'),\n",
       " ('_cyrus', '77'),\n",
       " ('_mailman', '78'),\n",
       " ('_appserver', '79'),\n",
       " ('_clamav', '82'),\n",
       " ('_amavisd', '83'),\n",
       " ('_jabber', '84'),\n",
       " ('_appowner', '87'),\n",
       " ('_windowserver', '88'),\n",
       " ('_spotlight', '89'),\n",
       " ('_tokend', '91'),\n",
       " ('_securityagent', '92'),\n",
       " ('_calendar', '93'),\n",
       " ('_teamsserver', '94'),\n",
       " ('_update_sharing', '95'),\n",
       " ('_installer', '96'),\n",
       " ('_atsserver', '97'),\n",
       " ('_ftp', '98'),\n",
       " ('_unknown', '99'),\n",
       " ('_softwareupdate', '200'),\n",
       " ('_coreaudiod', '202'),\n",
       " ('_screensaver', '203'),\n",
       " ('_locationd', '205'),\n",
       " ('_trustevaluationagent', '208'),\n",
       " ('_timezone', '210'),\n",
       " ('_lda', '211'),\n",
       " ('_cvmsroot', '212'),\n",
       " ('_usbmuxd', '213'),\n",
       " ('_dovecot', '214'),\n",
       " ('_dpaudio', '215'),\n",
       " ('_postgres', '216'),\n",
       " ('_krbtgt', '217'),\n",
       " ('_kadmin_admin', '218'),\n",
       " ('_kadmin_changepw', '219'),\n",
       " ('_devicemgr', '220'),\n",
       " ('_webauthserver', '221'),\n",
       " ('_netbios', '222'),\n",
       " ('_warmd', '224'),\n",
       " ('_dovenull', '227'),\n",
       " ('_netstatistics', '228'),\n",
       " ('_avbdeviced', '229'),\n",
       " ('_krb_krbtgt', '230'),\n",
       " ('_krb_kadmin', '231'),\n",
       " ('_krb_changepw', '232'),\n",
       " ('_krb_kerberos', '233'),\n",
       " ('_krb_anonymous', '234'),\n",
       " ('_assetcache', '235'),\n",
       " ('_coremediaiod', '236'),\n",
       " ('_launchservicesd', '239'),\n",
       " ('_iconservices', '240'),\n",
       " ('_distnote', '241'),\n",
       " ('_nsurlsessiond', '242'),\n",
       " ('_nsurlstoraged', '243'),\n",
       " ('_displaypolicyd', '244'),\n",
       " ('_astris', '245'),\n",
       " ('_krbfast', '246'),\n",
       " ('_gamecontrollerd', '247'),\n",
       " ('_mbsetupuser', '248'),\n",
       " ('_ondemand', '249'),\n",
       " ('_xserverdocs', '251'),\n",
       " ('_wwwproxy', '252'),\n",
       " ('_mobileasset', '253'),\n",
       " ('_findmydevice', '254'),\n",
       " ('_datadetectors', '257'),\n",
       " ('_captiveagent', '258'),\n",
       " ('_ctkd', '259'),\n",
       " ('_applepay', '260'),\n",
       " ('_hidd', '261'),\n",
       " ('_cmiodalassistants', '262'),\n",
       " ('_analyticsd', '263'),\n",
       " ('_fpsd', '265'),\n",
       " ('_timed', '266'),\n",
       " ('_nearbyd', '268'),\n",
       " ('_reportmemoryexception', '269'),\n",
       " ('_driverkit', '270')]"
      ]
     },
     "execution_count": 152,
     "metadata": {},
     "output_type": "execute_result"
    }
   ],
   "source": [
    "[(one_line.split(\":\")[0], one_line.split(\":\")[2])\n",
    "for one_line in open('/etc/passwd')\n",
    "if not one_line.startswith(\"#\")]"
   ]
  },
  {
   "cell_type": "code",
   "execution_count": 153,
   "metadata": {},
   "outputs": [
    {
     "data": {
      "text/plain": [
       "{'nobody': '-2',\n",
       " 'root': '0',\n",
       " 'daemon': '1',\n",
       " '_uucp': '4',\n",
       " '_taskgated': '13',\n",
       " '_networkd': '24',\n",
       " '_installassistant': '25',\n",
       " '_lp': '26',\n",
       " '_postfix': '27',\n",
       " '_scsd': '31',\n",
       " '_ces': '32',\n",
       " '_appstore': '33',\n",
       " '_mcxalr': '54',\n",
       " '_appleevents': '55',\n",
       " '_geod': '56',\n",
       " '_devdocs': '59',\n",
       " '_sandbox': '60',\n",
       " '_mdnsresponder': '65',\n",
       " '_ard': '67',\n",
       " '_www': '70',\n",
       " '_eppc': '71',\n",
       " '_cvs': '72',\n",
       " '_svn': '73',\n",
       " '_mysql': '74',\n",
       " '_sshd': '75',\n",
       " '_qtss': '76',\n",
       " '_cyrus': '77',\n",
       " '_mailman': '78',\n",
       " '_appserver': '79',\n",
       " '_clamav': '82',\n",
       " '_amavisd': '83',\n",
       " '_jabber': '84',\n",
       " '_appowner': '87',\n",
       " '_windowserver': '88',\n",
       " '_spotlight': '89',\n",
       " '_tokend': '91',\n",
       " '_securityagent': '92',\n",
       " '_calendar': '93',\n",
       " '_teamsserver': '94',\n",
       " '_update_sharing': '95',\n",
       " '_installer': '96',\n",
       " '_atsserver': '97',\n",
       " '_ftp': '98',\n",
       " '_unknown': '99',\n",
       " '_softwareupdate': '200',\n",
       " '_coreaudiod': '202',\n",
       " '_screensaver': '203',\n",
       " '_locationd': '205',\n",
       " '_trustevaluationagent': '208',\n",
       " '_timezone': '210',\n",
       " '_lda': '211',\n",
       " '_cvmsroot': '212',\n",
       " '_usbmuxd': '213',\n",
       " '_dovecot': '214',\n",
       " '_dpaudio': '215',\n",
       " '_postgres': '216',\n",
       " '_krbtgt': '217',\n",
       " '_kadmin_admin': '218',\n",
       " '_kadmin_changepw': '219',\n",
       " '_devicemgr': '220',\n",
       " '_webauthserver': '221',\n",
       " '_netbios': '222',\n",
       " '_warmd': '224',\n",
       " '_dovenull': '227',\n",
       " '_netstatistics': '228',\n",
       " '_avbdeviced': '229',\n",
       " '_krb_krbtgt': '230',\n",
       " '_krb_kadmin': '231',\n",
       " '_krb_changepw': '232',\n",
       " '_krb_kerberos': '233',\n",
       " '_krb_anonymous': '234',\n",
       " '_assetcache': '235',\n",
       " '_coremediaiod': '236',\n",
       " '_launchservicesd': '239',\n",
       " '_iconservices': '240',\n",
       " '_distnote': '241',\n",
       " '_nsurlsessiond': '242',\n",
       " '_nsurlstoraged': '243',\n",
       " '_displaypolicyd': '244',\n",
       " '_astris': '245',\n",
       " '_krbfast': '246',\n",
       " '_gamecontrollerd': '247',\n",
       " '_mbsetupuser': '248',\n",
       " '_ondemand': '249',\n",
       " '_xserverdocs': '251',\n",
       " '_wwwproxy': '252',\n",
       " '_mobileasset': '253',\n",
       " '_findmydevice': '254',\n",
       " '_datadetectors': '257',\n",
       " '_captiveagent': '258',\n",
       " '_ctkd': '259',\n",
       " '_applepay': '260',\n",
       " '_hidd': '261',\n",
       " '_cmiodalassistants': '262',\n",
       " '_analyticsd': '263',\n",
       " '_fpsd': '265',\n",
       " '_timed': '266',\n",
       " '_nearbyd': '268',\n",
       " '_reportmemoryexception': '269',\n",
       " '_driverkit': '270'}"
      ]
     },
     "execution_count": 153,
     "metadata": {},
     "output_type": "execute_result"
    }
   ],
   "source": [
    "dict([(one_line.split(\":\")[0], one_line.split(\":\")[2])\n",
    "for one_line in open('/etc/passwd')\n",
    "if not one_line.startswith(\"#\")])"
   ]
  },
  {
   "cell_type": "code",
   "execution_count": 166,
   "metadata": {},
   "outputs": [
    {
     "data": {
      "text/plain": [
       "{'nobody': '-2',\n",
       " 'root': '0',\n",
       " 'daemon': '1',\n",
       " '_uucp': '4',\n",
       " '_taskgated': '13',\n",
       " '_networkd': '24',\n",
       " '_installassistant': '25',\n",
       " '_lp': '26',\n",
       " '_postfix': '27',\n",
       " '_scsd': '31',\n",
       " '_ces': '32',\n",
       " '_appstore': '33',\n",
       " '_mcxalr': '54',\n",
       " '_appleevents': '55',\n",
       " '_geod': '56',\n",
       " '_devdocs': '59',\n",
       " '_sandbox': '60',\n",
       " '_mdnsresponder': '65',\n",
       " '_ard': '67',\n",
       " '_www': '70',\n",
       " '_eppc': '71',\n",
       " '_cvs': '72',\n",
       " '_svn': '73',\n",
       " '_mysql': '74',\n",
       " '_sshd': '75',\n",
       " '_qtss': '76',\n",
       " '_cyrus': '77',\n",
       " '_mailman': '78',\n",
       " '_appserver': '79',\n",
       " '_clamav': '82',\n",
       " '_amavisd': '83',\n",
       " '_jabber': '84',\n",
       " '_appowner': '87',\n",
       " '_windowserver': '88',\n",
       " '_spotlight': '89',\n",
       " '_tokend': '91',\n",
       " '_securityagent': '92',\n",
       " '_calendar': '93',\n",
       " '_teamsserver': '94',\n",
       " '_update_sharing': '95',\n",
       " '_installer': '96',\n",
       " '_atsserver': '97',\n",
       " '_ftp': '98',\n",
       " '_unknown': '99',\n",
       " '_softwareupdate': '200',\n",
       " '_coreaudiod': '202',\n",
       " '_screensaver': '203',\n",
       " '_locationd': '205',\n",
       " '_trustevaluationagent': '208',\n",
       " '_timezone': '210',\n",
       " '_lda': '211',\n",
       " '_cvmsroot': '212',\n",
       " '_usbmuxd': '213',\n",
       " '_dovecot': '214',\n",
       " '_dpaudio': '215',\n",
       " '_postgres': '216',\n",
       " '_krbtgt': '217',\n",
       " '_kadmin_admin': '218',\n",
       " '_kadmin_changepw': '219',\n",
       " '_devicemgr': '220',\n",
       " '_webauthserver': '221',\n",
       " '_netbios': '222',\n",
       " '_warmd': '224',\n",
       " '_dovenull': '227',\n",
       " '_netstatistics': '228',\n",
       " '_avbdeviced': '229',\n",
       " '_krb_krbtgt': '230',\n",
       " '_krb_kadmin': '231',\n",
       " '_krb_changepw': '232',\n",
       " '_krb_kerberos': '233',\n",
       " '_krb_anonymous': '234',\n",
       " '_assetcache': '235',\n",
       " '_coremediaiod': '236',\n",
       " '_launchservicesd': '239',\n",
       " '_iconservices': '240',\n",
       " '_distnote': '241',\n",
       " '_nsurlsessiond': '242',\n",
       " '_nsurlstoraged': '243',\n",
       " '_displaypolicyd': '244',\n",
       " '_astris': '245',\n",
       " '_krbfast': '246',\n",
       " '_gamecontrollerd': '247',\n",
       " '_mbsetupuser': '248',\n",
       " '_ondemand': '249',\n",
       " '_xserverdocs': '251',\n",
       " '_wwwproxy': '252',\n",
       " '_mobileasset': '253',\n",
       " '_findmydevice': '254',\n",
       " '_datadetectors': '257',\n",
       " '_captiveagent': '258',\n",
       " '_ctkd': '259',\n",
       " '_applepay': '260',\n",
       " '_hidd': '261',\n",
       " '_cmiodalassistants': '262',\n",
       " '_analyticsd': '263',\n",
       " '_fpsd': '265',\n",
       " '_timed': '266',\n",
       " '_nearbyd': '268',\n",
       " '_reportmemoryexception': '269',\n",
       " '_driverkit': '270'}"
      ]
     },
     "execution_count": 166,
     "metadata": {},
     "output_type": "execute_result"
    }
   ],
   "source": [
    "dict([one_line.split(\":\")[0:3:2]\n",
    "for one_line in open('/etc/passwd')\n",
    "if not one_line.startswith(\"#\")])"
   ]
  },
  {
   "cell_type": "code",
   "execution_count": 167,
   "metadata": {},
   "outputs": [
    {
     "data": {
      "text/plain": [
       "{'nobody': '-2',\n",
       " 'root': '0',\n",
       " 'daemon': '1',\n",
       " '_uucp': '4',\n",
       " '_taskgated': '13',\n",
       " '_networkd': '24',\n",
       " '_installassistant': '25',\n",
       " '_lp': '26',\n",
       " '_postfix': '27',\n",
       " '_scsd': '31',\n",
       " '_ces': '32',\n",
       " '_appstore': '33',\n",
       " '_mcxalr': '54',\n",
       " '_appleevents': '55',\n",
       " '_geod': '56',\n",
       " '_devdocs': '59',\n",
       " '_sandbox': '60',\n",
       " '_mdnsresponder': '65',\n",
       " '_ard': '67',\n",
       " '_www': '70',\n",
       " '_eppc': '71',\n",
       " '_cvs': '72',\n",
       " '_svn': '73',\n",
       " '_mysql': '74',\n",
       " '_sshd': '75',\n",
       " '_qtss': '76',\n",
       " '_cyrus': '77',\n",
       " '_mailman': '78',\n",
       " '_appserver': '79',\n",
       " '_clamav': '82',\n",
       " '_amavisd': '83',\n",
       " '_jabber': '84',\n",
       " '_appowner': '87',\n",
       " '_windowserver': '88',\n",
       " '_spotlight': '89',\n",
       " '_tokend': '91',\n",
       " '_securityagent': '92',\n",
       " '_calendar': '93',\n",
       " '_teamsserver': '94',\n",
       " '_update_sharing': '95',\n",
       " '_installer': '96',\n",
       " '_atsserver': '97',\n",
       " '_ftp': '98',\n",
       " '_unknown': '99',\n",
       " '_softwareupdate': '200',\n",
       " '_coreaudiod': '202',\n",
       " '_screensaver': '203',\n",
       " '_locationd': '205',\n",
       " '_trustevaluationagent': '208',\n",
       " '_timezone': '210',\n",
       " '_lda': '211',\n",
       " '_cvmsroot': '212',\n",
       " '_usbmuxd': '213',\n",
       " '_dovecot': '214',\n",
       " '_dpaudio': '215',\n",
       " '_postgres': '216',\n",
       " '_krbtgt': '217',\n",
       " '_kadmin_admin': '218',\n",
       " '_kadmin_changepw': '219',\n",
       " '_devicemgr': '220',\n",
       " '_webauthserver': '221',\n",
       " '_netbios': '222',\n",
       " '_warmd': '224',\n",
       " '_dovenull': '227',\n",
       " '_netstatistics': '228',\n",
       " '_avbdeviced': '229',\n",
       " '_krb_krbtgt': '230',\n",
       " '_krb_kadmin': '231',\n",
       " '_krb_changepw': '232',\n",
       " '_krb_kerberos': '233',\n",
       " '_krb_anonymous': '234',\n",
       " '_assetcache': '235',\n",
       " '_coremediaiod': '236',\n",
       " '_launchservicesd': '239',\n",
       " '_iconservices': '240',\n",
       " '_distnote': '241',\n",
       " '_nsurlsessiond': '242',\n",
       " '_nsurlstoraged': '243',\n",
       " '_displaypolicyd': '244',\n",
       " '_astris': '245',\n",
       " '_krbfast': '246',\n",
       " '_gamecontrollerd': '247',\n",
       " '_mbsetupuser': '248',\n",
       " '_ondemand': '249',\n",
       " '_xserverdocs': '251',\n",
       " '_wwwproxy': '252',\n",
       " '_mobileasset': '253',\n",
       " '_findmydevice': '254',\n",
       " '_datadetectors': '257',\n",
       " '_captiveagent': '258',\n",
       " '_ctkd': '259',\n",
       " '_applepay': '260',\n",
       " '_hidd': '261',\n",
       " '_cmiodalassistants': '262',\n",
       " '_analyticsd': '263',\n",
       " '_fpsd': '265',\n",
       " '_timed': '266',\n",
       " '_nearbyd': '268',\n",
       " '_reportmemoryexception': '269',\n",
       " '_driverkit': '270'}"
      ]
     },
     "execution_count": 167,
     "metadata": {},
     "output_type": "execute_result"
    }
   ],
   "source": [
    "# dict comprehension\n",
    "{ one_line.split(\":\")[0] : one_line.split(\":\")[2]\n",
    "  for one_line in open('/etc/passwd')\n",
    "  if not one_line.startswith(\"#\") }"
   ]
  },
  {
   "cell_type": "code",
   "execution_count": 168,
   "metadata": {},
   "outputs": [
    {
     "name": "stdout",
     "output_type": "stream",
     "text": [
      "linux-etc-passwd.txt  mini-access-log.txt  nums.txt  output.txt  shoe-data.txt\r\n"
     ]
    }
   ],
   "source": [
    "%ls *.txt"
   ]
  },
  {
   "cell_type": "code",
   "execution_count": null,
   "metadata": {},
   "outputs": [],
   "source": [
    "a:1\n",
    "b:2\n",
    "c:3\n",
    "    \n",
    "# Create a file like the above, with names and values\n",
    "# Use a dict comprehension to read the file, turning its\n",
    "# name-value pairs into a dict.\n",
    "\n",
    "{'a':1, 'b':2, 'c':3}"
   ]
  },
  {
   "cell_type": "code",
   "execution_count": 170,
   "metadata": {},
   "outputs": [],
   "source": [
    "d = {'a':1, 'b':2, 'c':3}\n",
    "\n",
    "with open('config.txt', 'w') as outfile:\n",
    "    for key, value in d.items():\n",
    "        outfile.write(f'{key}:{value}\\n')"
   ]
  },
  {
   "cell_type": "code",
   "execution_count": 171,
   "metadata": {},
   "outputs": [
    {
     "name": "stdout",
     "output_type": "stream",
     "text": [
      "a:1\r\n",
      "b:2\r\n",
      "c:3\r\n"
     ]
    }
   ],
   "source": [
    "%cat config.txt"
   ]
  },
  {
   "cell_type": "code",
   "execution_count": 174,
   "metadata": {},
   "outputs": [
    {
     "data": {
      "text/plain": [
       "[['a', '1'], ['b', '2'], ['c', '3']]"
      ]
     },
     "execution_count": 174,
     "metadata": {},
     "output_type": "execute_result"
    }
   ],
   "source": [
    "[one_line.strip().split(\":\")\n",
    "for one_line in open('config.txt')]"
   ]
  },
  {
   "cell_type": "code",
   "execution_count": 176,
   "metadata": {},
   "outputs": [
    {
     "data": {
      "text/plain": [
       "{'a': '1', 'b': '2', 'c': '3'}"
      ]
     },
     "execution_count": 176,
     "metadata": {},
     "output_type": "execute_result"
    }
   ],
   "source": [
    "{one_line.split(\":\")[0]  : one_line.strip().split(\":\")[1]\n",
    " for one_line in open('config.txt')}"
   ]
  },
  {
   "cell_type": "code",
   "execution_count": 177,
   "metadata": {},
   "outputs": [
    {
     "data": {
      "text/plain": [
       "[[10, 20, 30], [40, 50, 60, 65, 70, 75], [80, 85, 86, 87, 88, 89, 90, 91, 100]]"
      ]
     },
     "execution_count": 177,
     "metadata": {},
     "output_type": "execute_result"
    }
   ],
   "source": [
    "mylist = [[10, 20, 30], [40, 50, 60, 65, 70, 75], \n",
    "         [80, 85, 86, 87, 88, 89, 90, 91, 100]]\n",
    "\n",
    "mylist"
   ]
  },
  {
   "cell_type": "code",
   "execution_count": 178,
   "metadata": {},
   "outputs": [
    {
     "data": {
      "text/plain": [
       "3"
      ]
     },
     "execution_count": 178,
     "metadata": {},
     "output_type": "execute_result"
    }
   ],
   "source": [
    "# flatten this list -- meaning, all elements in a single list\n",
    "len(mylist)"
   ]
  },
  {
   "cell_type": "code",
   "execution_count": 179,
   "metadata": {},
   "outputs": [
    {
     "data": {
      "text/plain": [
       "[[10, 20, 30], [40, 50, 60, 65, 70, 75], [80, 85, 86, 87, 88, 89, 90, 91, 100]]"
      ]
     },
     "execution_count": 179,
     "metadata": {},
     "output_type": "execute_result"
    }
   ],
   "source": [
    "[one_item\n",
    "for one_item in mylist]"
   ]
  },
  {
   "cell_type": "code",
   "execution_count": 180,
   "metadata": {},
   "outputs": [
    {
     "data": {
      "text/plain": [
       "[10, 20, 30, 40, 50, 60, 65, 70, 75, 80, 85, 86, 87, 88, 89, 90, 91, 100]"
      ]
     },
     "execution_count": 180,
     "metadata": {},
     "output_type": "execute_result"
    }
   ],
   "source": [
    "# nested list comprehensions\n",
    "[one_item   # expression is invoked for each one_item\n",
    "for one_sublist in mylist\n",
    "for one_item in one_sublist]"
   ]
  },
  {
   "cell_type": "code",
   "execution_count": 181,
   "metadata": {},
   "outputs": [
    {
     "data": {
      "text/plain": [
       "[(0, 0, 10),\n",
       " (0, 1, 20),\n",
       " (0, 2, 30),\n",
       " (1, 0, 40),\n",
       " (1, 1, 50),\n",
       " (1, 2, 60),\n",
       " (1, 3, 65),\n",
       " (1, 4, 70),\n",
       " (1, 5, 75),\n",
       " (2, 0, 80),\n",
       " (2, 1, 85),\n",
       " (2, 2, 86),\n",
       " (2, 3, 87),\n",
       " (2, 4, 88),\n",
       " (2, 5, 89),\n",
       " (2, 6, 90),\n",
       " (2, 7, 91),\n",
       " (2, 8, 100)]"
      ]
     },
     "execution_count": 181,
     "metadata": {},
     "output_type": "execute_result"
    }
   ],
   "source": [
    "# nested list comprehensions\n",
    "[(sublist_index, item_index, one_item)\n",
    "for sublist_index, one_sublist in enumerate(mylist)\n",
    "for item_index, one_item in enumerate(one_sublist)]"
   ]
  },
  {
   "cell_type": "code",
   "execution_count": 183,
   "metadata": {},
   "outputs": [
    {
     "data": {
      "text/plain": [
       "[10, 20, 30]"
      ]
     },
     "execution_count": 183,
     "metadata": {},
     "output_type": "execute_result"
    }
   ],
   "source": [
    "# nested list comprehensions\n",
    "[one_item   # expression is invoked for each one_item\n",
    " for one_sublist in mylist\n",
    " if len(one_sublist) == 3  # this \"if\" is for the \"for\" above it\n",
    " for one_item in one_sublist]"
   ]
  },
  {
   "cell_type": "code",
   "execution_count": 184,
   "metadata": {},
   "outputs": [
    {
     "data": {
      "text/plain": [
       "[65, 75, 85, 87, 89, 91]"
      ]
     },
     "execution_count": 184,
     "metadata": {},
     "output_type": "execute_result"
    }
   ],
   "source": [
    "# nested list comprehensions\n",
    "[one_item   # expression is invoked for each one_item\n",
    " for one_sublist in mylist\n",
    " for one_item in one_sublist\n",
    " if one_item % 2] # meaning: if the number is odd"
   ]
  },
  {
   "cell_type": "code",
   "execution_count": 185,
   "metadata": {},
   "outputs": [
    {
     "data": {
      "text/plain": [
       "[65, 75, 85, 87, 89, 91]"
      ]
     },
     "execution_count": 185,
     "metadata": {},
     "output_type": "execute_result"
    }
   ],
   "source": [
    "# nested list comprehensions\n",
    "[one_item   # expression is invoked for each one_item\n",
    " for one_sublist in mylist\n",
    " if len(one_sublist) > 3\n",
    " for one_item in one_sublist\n",
    " if one_item % 2] # meaning: if the number is odd"
   ]
  },
  {
   "cell_type": "code",
   "execution_count": 186,
   "metadata": {},
   "outputs": [
    {
     "data": {
      "text/plain": [
       "{65, 75, 85, 87, 89, 91}"
      ]
     },
     "execution_count": 186,
     "metadata": {},
     "output_type": "execute_result"
    }
   ],
   "source": [
    "# nested set comprehension \n",
    "\n",
    "{one_item   # expression is invoked for each one_item\n",
    " for one_sublist in mylist\n",
    " if len(one_sublist) > 3\n",
    " for one_item in one_sublist\n",
    " if one_item % 2} # meaning: if the number is odd"
   ]
  },
  {
   "cell_type": "code",
   "execution_count": null,
   "metadata": {},
   "outputs": [],
   "source": [
    "[one_item for one_sublist in mylist for one_item in one_sublist if one_item % 2] "
   ]
  },
  {
   "cell_type": "code",
   "execution_count": 187,
   "metadata": {},
   "outputs": [
    {
     "name": "stdout",
     "output_type": "stream",
     "text": [
      "movies.dat\r\n"
     ]
    }
   ],
   "source": [
    "%ls *.dat"
   ]
  },
  {
   "cell_type": "code",
   "execution_count": 188,
   "metadata": {},
   "outputs": [
    {
     "name": "stdout",
     "output_type": "stream",
     "text": [
      "1::Toy Story (1995)::Animation|Children's|Comedy\r\n",
      "2::Jumanji (1995)::Adventure|Children's|Fantasy\r\n",
      "3::Grumpier Old Men (1995)::Comedy|Romance\r\n",
      "4::Waiting to Exhale (1995)::Comedy|Drama\r\n",
      "5::Father of the Bride Part II (1995)::Comedy\r\n",
      "6::Heat (1995)::Action|Crime|Thriller\r\n",
      "7::Sabrina (1995)::Comedy|Romance\r\n",
      "8::Tom and Huck (1995)::Adventure|Children's\r\n",
      "9::Sudden Death (1995)::Action\r\n",
      "10::GoldenEye (1995)::Action|Adventure|Thriller\r\n"
     ]
    }
   ],
   "source": [
    "!head movies.dat"
   ]
  },
  {
   "cell_type": "code",
   "execution_count": 199,
   "metadata": {},
   "outputs": [
    {
     "data": {
      "text/plain": [
       "[('Drama', 1603),\n",
       " ('Comedy', 1200),\n",
       " ('Action', 503),\n",
       " ('Thriller', 492),\n",
       " ('Romance', 471)]"
      ]
     },
     "execution_count": 199,
     "metadata": {},
     "output_type": "execute_result"
    }
   ],
   "source": [
    "# Use comprehensions to parse movies.dat\n",
    "# so that we can find out what were the 5\n",
    "# most common movie genres in this data file.\n",
    "\n",
    "# You can keep the counts, if you want\n",
    "\n",
    "from collections import Counter\n",
    "c = Counter([one_genre\n",
    " for one_line in open('movies.dat')\n",
    " for one_genre in one_line.split(\"::\")[2].strip().split(\"|\")])\n",
    "c.most_common(5)"
   ]
  },
  {
   "cell_type": "code",
   "execution_count": 202,
   "metadata": {},
   "outputs": [],
   "source": [
    "mylist = [10, 5, 7, 13, 12]\n",
    "\n",
    "mylist.sort()    # method on list, modifies list, returns None "
   ]
  },
  {
   "cell_type": "code",
   "execution_count": 203,
   "metadata": {},
   "outputs": [],
   "source": [
    "mylist = mylist.sort()"
   ]
  },
  {
   "cell_type": "code",
   "execution_count": 204,
   "metadata": {},
   "outputs": [
    {
     "name": "stdout",
     "output_type": "stream",
     "text": [
      "None\n"
     ]
    }
   ],
   "source": [
    "print(mylist)"
   ]
  },
  {
   "cell_type": "code",
   "execution_count": 205,
   "metadata": {},
   "outputs": [
    {
     "data": {
      "text/plain": [
       "[5, 7, 10, 12, 13]"
      ]
     },
     "execution_count": 205,
     "metadata": {},
     "output_type": "execute_result"
    }
   ],
   "source": [
    "mylist = [10, 5, 7, 13, 12]\n",
    "\n",
    "sorted(mylist)   # function in builtins, works on any iterable,\n",
    "                 #       returns a new list"
   ]
  },
  {
   "cell_type": "code",
   "execution_count": 206,
   "metadata": {},
   "outputs": [
    {
     "data": {
      "text/plain": [
       "[10, 5, 7, 13, 12]"
      ]
     },
     "execution_count": 206,
     "metadata": {},
     "output_type": "execute_result"
    }
   ],
   "source": [
    "mylist"
   ]
  },
  {
   "cell_type": "code",
   "execution_count": 207,
   "metadata": {},
   "outputs": [
    {
     "data": {
      "text/plain": [
       "[5, 7, 10, 12, 13]"
      ]
     },
     "execution_count": 207,
     "metadata": {},
     "output_type": "execute_result"
    }
   ],
   "source": [
    "t = (10, 5, 7, 12, 13)\n",
    "sorted(t)"
   ]
  },
  {
   "cell_type": "code",
   "execution_count": 208,
   "metadata": {},
   "outputs": [
    {
     "data": {
      "text/plain": [
       "(10, 5, 7, 12, 13)"
      ]
     },
     "execution_count": 208,
     "metadata": {},
     "output_type": "execute_result"
    }
   ],
   "source": [
    "t"
   ]
  },
  {
   "cell_type": "code",
   "execution_count": 209,
   "metadata": {},
   "outputs": [
    {
     "data": {
      "text/plain": [
       "['Cisco',\n",
       " 'Python',\n",
       " 'This',\n",
       " 'a',\n",
       " 'at',\n",
       " 'course',\n",
       " 'for',\n",
       " 'is',\n",
       " 'my',\n",
       " 'sentence',\n",
       " 'test']"
      ]
     },
     "execution_count": 209,
     "metadata": {},
     "output_type": "execute_result"
    }
   ],
   "source": [
    "words = 'This is a test sentence for my Python course at Cisco'.split()\n",
    "\n",
    "sorted(words)"
   ]
  },
  {
   "cell_type": "code",
   "execution_count": 210,
   "metadata": {},
   "outputs": [
    {
     "data": {
      "text/plain": [
       "['a',\n",
       " 'at',\n",
       " 'Cisco',\n",
       " 'course',\n",
       " 'for',\n",
       " 'is',\n",
       " 'my',\n",
       " 'Python',\n",
       " 'sentence',\n",
       " 'test',\n",
       " 'This']"
      ]
     },
     "execution_count": 210,
     "metadata": {},
     "output_type": "execute_result"
    }
   ],
   "source": [
    "# let's apply a function to each of the elements of \"words\"\n",
    "# before sorting. The result of that function will be used\n",
    "# to make the comparison, but the original words will still\n",
    "# be output by \"sorted\".\n",
    "\n",
    "sorted(words, key=str.lower)"
   ]
  },
  {
   "cell_type": "code",
   "execution_count": 211,
   "metadata": {},
   "outputs": [
    {
     "data": {
      "text/plain": [
       "['a',\n",
       " 'is',\n",
       " 'my',\n",
       " 'at',\n",
       " 'for',\n",
       " 'This',\n",
       " 'test',\n",
       " 'Cisco',\n",
       " 'Python',\n",
       " 'course',\n",
       " 'sentence']"
      ]
     },
     "execution_count": 211,
     "metadata": {},
     "output_type": "execute_result"
    }
   ],
   "source": [
    "sorted(words, key=len)"
   ]
  },
  {
   "cell_type": "code",
   "execution_count": 213,
   "metadata": {},
   "outputs": [
    {
     "data": {
      "text/plain": [
       "['sentence',\n",
       " 'Python',\n",
       " 'course',\n",
       " 'Cisco',\n",
       " 'This',\n",
       " 'test',\n",
       " 'for',\n",
       " 'is',\n",
       " 'my',\n",
       " 'at',\n",
       " 'a']"
      ]
     },
     "execution_count": 213,
     "metadata": {},
     "output_type": "execute_result"
    }
   ],
   "source": [
    "sorted(words, key=len, reverse=True)"
   ]
  },
  {
   "cell_type": "code",
   "execution_count": 214,
   "metadata": {},
   "outputs": [
    {
     "data": {
      "text/plain": [
       "[10, 5, 7, 13, 12]"
      ]
     },
     "execution_count": 214,
     "metadata": {},
     "output_type": "execute_result"
    }
   ],
   "source": [
    "mylist"
   ]
  },
  {
   "cell_type": "code",
   "execution_count": 217,
   "metadata": {},
   "outputs": [],
   "source": [
    "mylist = [[10, 20, 30, 2000], [40, 50, 60, 65, 3000, 70, 75], \n",
    "         [80, 85, 86, 87, 88, 89, 90, 91, 100]]\n",
    "\n"
   ]
  },
  {
   "cell_type": "code",
   "execution_count": 218,
   "metadata": {},
   "outputs": [
    {
     "data": {
      "text/plain": [
       "[[10, 20, 30, 2000],\n",
       " [40, 50, 60, 65, 3000, 70, 75],\n",
       " [80, 85, 86, 87, 88, 89, 90, 91, 100]]"
      ]
     },
     "execution_count": 218,
     "metadata": {},
     "output_type": "execute_result"
    }
   ],
   "source": [
    "sorted(mylist, key=len)"
   ]
  },
  {
   "cell_type": "code",
   "execution_count": 219,
   "metadata": {},
   "outputs": [
    {
     "data": {
      "text/plain": [
       "[[80, 85, 86, 87, 88, 89, 90, 91, 100],\n",
       " [10, 20, 30, 2000],\n",
       " [40, 50, 60, 65, 3000, 70, 75]]"
      ]
     },
     "execution_count": 219,
     "metadata": {},
     "output_type": "execute_result"
    }
   ],
   "source": [
    "sorted(mylist, key=sum)"
   ]
  },
  {
   "cell_type": "code",
   "execution_count": 222,
   "metadata": {},
   "outputs": [
    {
     "name": "stdout",
     "output_type": "stream",
     "text": [
      "Enter a sentence: this is a test\n",
      "Now sorting this\n",
      "Now sorting is\n",
      "Now sorting a\n",
      "Now sorting test\n"
     ]
    },
    {
     "data": {
      "text/plain": [
       "['a', 'is', 'this', 'test']"
      ]
     },
     "execution_count": 222,
     "metadata": {},
     "output_type": "execute_result"
    }
   ],
   "source": [
    "# ask the user to enter a sentence\n",
    "# sort the words in reversed order\n",
    "# that is: check the final letter, 2nd to final letter, etc.\n",
    "# so the word that *ends* with a will come before the word\n",
    "# that *ends* with b, etc.\n",
    "\n",
    "s = input(\"Enter a sentence: \").split()\n",
    "\n",
    "def by_reversed_word(word):\n",
    "    print(f'Now sorting {word}')\n",
    "    return word[::-1]  \n",
    "\n",
    "sorted(s, key=by_reversed_word)\n"
   ]
  },
  {
   "cell_type": "code",
   "execution_count": 220,
   "metadata": {},
   "outputs": [
    {
     "data": {
      "text/plain": [
       "'cba'"
      ]
     },
     "execution_count": 220,
     "metadata": {},
     "output_type": "execute_result"
    }
   ],
   "source": [
    "'abc'[::-1]"
   ]
  },
  {
   "cell_type": "code",
   "execution_count": 223,
   "metadata": {},
   "outputs": [
    {
     "data": {
      "text/plain": [
       "True"
      ]
     },
     "execution_count": 223,
     "metadata": {},
     "output_type": "execute_result"
    }
   ],
   "source": [
    "'a' < 'b'"
   ]
  },
  {
   "cell_type": "code",
   "execution_count": 224,
   "metadata": {},
   "outputs": [
    {
     "data": {
      "text/plain": [
       "False"
      ]
     },
     "execution_count": 224,
     "metadata": {},
     "output_type": "execute_result"
    }
   ],
   "source": [
    "'apple' < 'aaaa'"
   ]
  },
  {
   "cell_type": "code",
   "execution_count": 225,
   "metadata": {},
   "outputs": [
    {
     "ename": "TypeError",
     "evalue": "'<' not supported between instances of 'dict' and 'dict'",
     "output_type": "error",
     "traceback": [
      "\u001b[0;31m---------------------------------------------------------------------------\u001b[0m",
      "\u001b[0;31mTypeError\u001b[0m                                 Traceback (most recent call last)",
      "\u001b[0;32m<ipython-input-225-c90ef4274f3a>\u001b[0m in \u001b[0;36m<module>\u001b[0;34m\u001b[0m\n\u001b[0;32m----> 1\u001b[0;31m \u001b[0;34m{\u001b[0m\u001b[0;34m'a'\u001b[0m\u001b[0;34m:\u001b[0m\u001b[0;36m1\u001b[0m\u001b[0;34m,\u001b[0m \u001b[0;34m'b'\u001b[0m\u001b[0;34m:\u001b[0m\u001b[0;36m2\u001b[0m\u001b[0;34m}\u001b[0m \u001b[0;34m<\u001b[0m \u001b[0;34m{\u001b[0m\u001b[0;34m'a'\u001b[0m\u001b[0;34m:\u001b[0m\u001b[0;36m1\u001b[0m\u001b[0;34m,\u001b[0m \u001b[0;34m'b'\u001b[0m\u001b[0;34m:\u001b[0m\u001b[0;36m1\u001b[0m\u001b[0;34m}\u001b[0m\u001b[0;34m\u001b[0m\u001b[0;34m\u001b[0m\u001b[0m\n\u001b[0m",
      "\u001b[0;31mTypeError\u001b[0m: '<' not supported between instances of 'dict' and 'dict'"
     ]
    }
   ],
   "source": [
    "{'a':1, 'b':2} < {'a':1, 'b':1}"
   ]
  },
  {
   "cell_type": "code",
   "execution_count": 226,
   "metadata": {},
   "outputs": [
    {
     "data": {
      "text/plain": [
       "['1', '10', '2', '20', '3', '30']"
      ]
     },
     "execution_count": 226,
     "metadata": {},
     "output_type": "execute_result"
    }
   ],
   "source": [
    "mylist = ['1', '2', '3', '10', '20', '30']\n",
    "sorted(mylist)"
   ]
  },
  {
   "cell_type": "code",
   "execution_count": 227,
   "metadata": {},
   "outputs": [],
   "source": [
    "def square(x):\n",
    "    return x * x"
   ]
  },
  {
   "cell_type": "code",
   "execution_count": 228,
   "metadata": {},
   "outputs": [
    {
     "data": {
      "text/plain": [
       "25"
      ]
     },
     "execution_count": 228,
     "metadata": {},
     "output_type": "execute_result"
    }
   ],
   "source": [
    "square(5)"
   ]
  },
  {
   "cell_type": "code",
   "execution_count": 229,
   "metadata": {},
   "outputs": [
    {
     "data": {
      "text/plain": [
       "<function __main__.<lambda>(x)>"
      ]
     },
     "execution_count": 229,
     "metadata": {},
     "output_type": "execute_result"
    }
   ],
   "source": [
    "# lambda creates an anonymous function (object)\n",
    "lambda x: x*x"
   ]
  },
  {
   "cell_type": "code",
   "execution_count": 231,
   "metadata": {},
   "outputs": [],
   "source": [
    "# this is basically the same as \"def\"\n",
    "square2 = lambda x: x*x"
   ]
  },
  {
   "cell_type": "code",
   "execution_count": 232,
   "metadata": {},
   "outputs": [
    {
     "data": {
      "text/plain": [
       "25"
      ]
     },
     "execution_count": 232,
     "metadata": {},
     "output_type": "execute_result"
    }
   ],
   "source": [
    "square2(5)"
   ]
  },
  {
   "cell_type": "code",
   "execution_count": null,
   "metadata": {},
   "outputs": [],
   "source": []
  }
 ],
 "metadata": {
  "kernelspec": {
   "display_name": "Python 3",
   "language": "python",
   "name": "python3"
  },
  "language_info": {
   "codemirror_mode": {
    "name": "ipython",
    "version": 3
   },
   "file_extension": ".py",
   "mimetype": "text/x-python",
   "name": "python",
   "nbconvert_exporter": "python",
   "pygments_lexer": "ipython3",
   "version": "3.7.6"
  }
 },
 "nbformat": 4,
 "nbformat_minor": 2
}
