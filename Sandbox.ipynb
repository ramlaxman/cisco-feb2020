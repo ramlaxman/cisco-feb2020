{
 "cells": [
  {
   "cell_type": "code",
   "execution_count": 4,
   "metadata": {},
   "outputs": [
    {
     "name": "stdout",
     "output_type": "stream",
     "text": [
      "Now in __new__\n",
      "Now in __init__\n"
     ]
    }
   ],
   "source": [
    "class Foo():\n",
    "    def __new__(cls):\n",
    "        print(\"Now in __new__\")\n",
    "        return super().__new__(cls)\n",
    "        \n",
    "    def __init__(self):\n",
    "        print(\"Now in __init__\")\n",
    "        \n",
    "f = Foo()"
   ]
  },
  {
   "cell_type": "code",
   "execution_count": null,
   "metadata": {},
   "outputs": [],
   "source": []
  }
 ],
 "metadata": {
  "kernelspec": {
   "display_name": "Python 3",
   "language": "python",
   "name": "python3"
  },
  "language_info": {
   "codemirror_mode": {
    "name": "ipython",
    "version": 3
   },
   "file_extension": ".py",
   "mimetype": "text/x-python",
   "name": "python",
   "nbconvert_exporter": "python",
   "pygments_lexer": "ipython3",
   "version": "3.7.6"
  }
 },
 "nbformat": 4,
 "nbformat_minor": 2
}
